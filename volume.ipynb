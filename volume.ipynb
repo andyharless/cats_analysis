{
 "cells": [
  {
   "cell_type": "code",
   "execution_count": 1,
   "id": "53aece13",
   "metadata": {},
   "outputs": [],
   "source": [
    "from tibet_data import Pairs, Pair\n",
    "import pandas as pd"
   ]
  },
  {
   "cell_type": "code",
   "execution_count": 2,
   "id": "1e5f57e0",
   "metadata": {},
   "outputs": [
    {
     "data": {
      "text/plain": [
       "1.630925192518"
      ]
     },
     "execution_count": 2,
     "metadata": {},
     "output_type": "execute_result"
    }
   ],
   "source": [
    "pairs = Pairs()\n",
    "stdg = Pair(pairs, 'STDG')\n",
    "stdg.get_volume()"
   ]
  },
  {
   "cell_type": "code",
   "execution_count": 3,
   "id": "1a7c8b12",
   "metadata": {},
   "outputs": [
    {
     "data": {
      "text/plain": [
       "4.608706411428"
      ]
     },
     "execution_count": 3,
     "metadata": {},
     "output_type": "execute_result"
    }
   ],
   "source": [
    "stdg.get_xch_reserve()"
   ]
  },
  {
   "cell_type": "code",
   "execution_count": 4,
   "id": "1a9250e4",
   "metadata": {},
   "outputs": [
    {
     "data": {
      "text/plain": [
       "0.06671858488354943"
      ]
     },
     "execution_count": 4,
     "metadata": {},
     "output_type": "execute_result"
    }
   ],
   "source": [
    "stdg.get_annualized_yield()"
   ]
  },
  {
   "cell_type": "code",
   "execution_count": 5,
   "id": "822345ef",
   "metadata": {},
   "outputs": [
    {
     "data": {
      "text/plain": [
       "0.04608706411428"
      ]
     },
     "execution_count": 5,
     "metadata": {},
     "output_type": "execute_result"
    }
   ],
   "source": [
    "stdg.get_price_impact_threshold()"
   ]
  },
  {
   "cell_type": "code",
   "execution_count": 6,
   "id": "02bab6f1",
   "metadata": {},
   "outputs": [
    {
     "data": {
      "text/plain": [
       "350.3708042833882"
      ]
     },
     "execution_count": 6,
     "metadata": {},
     "output_type": "execute_result"
    }
   ],
   "source": [
    "stdg.get_recovery_period()"
   ]
  },
  {
   "cell_type": "code",
   "execution_count": 7,
   "id": "19a20cfd",
   "metadata": {},
   "outputs": [
    {
     "data": {
      "text/plain": [
       "23.353681999121"
      ]
     },
     "execution_count": 7,
     "metadata": {},
     "output_type": "execute_result"
    }
   ],
   "source": [
    "usds = Pair(pairs, 'USDS')\n",
    "usds.get_volume()"
   ]
  },
  {
   "cell_type": "code",
   "execution_count": 8,
   "id": "7f596453",
   "metadata": {},
   "outputs": [
    {
     "data": {
      "text/plain": [
       "24.468457327203442"
      ]
     },
     "execution_count": 8,
     "metadata": {},
     "output_type": "execute_result"
    }
   ],
   "source": [
    "usds.get_recovery_period()"
   ]
  },
  {
   "cell_type": "code",
   "execution_count": 9,
   "id": "3e7d5aba",
   "metadata": {},
   "outputs": [
    {
     "data": {
      "text/plain": [
       "254.21061255139045"
      ]
     },
     "execution_count": 9,
     "metadata": {},
     "output_type": "execute_result"
    }
   ],
   "source": [
    "incl4 = Pair(pairs, 'INCL4')\n",
    "incl4.get_recovery_period()"
   ]
  },
  {
   "cell_type": "code",
   "execution_count": 10,
   "id": "40d05fd8",
   "metadata": {},
   "outputs": [
    {
     "data": {
      "text/plain": [
       "25.421061255139044"
      ]
     },
     "execution_count": 10,
     "metadata": {},
     "output_type": "execute_result"
    }
   ],
   "source": [
    "incl4.get_recovery_period(0.1)"
   ]
  },
  {
   "cell_type": "code",
   "execution_count": 11,
   "id": "a4525aee",
   "metadata": {},
   "outputs": [
    {
     "data": {
      "text/plain": [
       "(0.08170736795352784, 5.222842128369)"
      ]
     },
     "execution_count": 11,
     "metadata": {},
     "output_type": "execute_result"
    }
   ],
   "source": [
    "incl4.get_annualized_yield(), incl4.get_xch_reserve()"
   ]
  },
  {
   "cell_type": "code",
   "execution_count": 12,
   "id": "414c6a60",
   "metadata": {},
   "outputs": [
    {
     "data": {
      "text/plain": [
       "2.247854901467"
      ]
     },
     "execution_count": 12,
     "metadata": {},
     "output_type": "execute_result"
    }
   ],
   "source": [
    "incl4.get_volume()"
   ]
  },
  {
   "cell_type": "code",
   "execution_count": 13,
   "id": "866025f8",
   "metadata": {},
   "outputs": [
    {
     "data": {
      "text/html": [
       "<div>\n",
       "<style scoped>\n",
       "    .dataframe tbody tr th:only-of-type {\n",
       "        vertical-align: middle;\n",
       "    }\n",
       "\n",
       "    .dataframe tbody tr th {\n",
       "        vertical-align: top;\n",
       "    }\n",
       "\n",
       "    .dataframe thead th {\n",
       "        text-align: right;\n",
       "    }\n",
       "</style>\n",
       "<table border=\"1\" class=\"dataframe\">\n",
       "  <thead>\n",
       "    <tr style=\"text-align: right;\">\n",
       "      <th></th>\n",
       "      <th>pair_launcher_id</th>\n",
       "      <th>operation</th>\n",
       "      <th>height</th>\n",
       "      <th>coin_id</th>\n",
       "      <th>timestamp</th>\n",
       "      <th>state_change.xch</th>\n",
       "      <th>state_change.token</th>\n",
       "      <th>state_change.liquidity</th>\n",
       "      <th>time</th>\n",
       "    </tr>\n",
       "  </thead>\n",
       "  <tbody>\n",
       "    <tr>\n",
       "      <th>0</th>\n",
       "      <td>9124c0198ed1109fdc3b41d193b67fe06135b82a3f0012...</td>\n",
       "      <td>SWAP</td>\n",
       "      <td>3791941</td>\n",
       "      <td>a18be0c4e4f78856809df9d68cd401d91b1986608de272...</td>\n",
       "      <td>1686526741</td>\n",
       "      <td>22554202054</td>\n",
       "      <td>-200000</td>\n",
       "      <td>0</td>\n",
       "      <td>2023-06-11 23:39:01</td>\n",
       "    </tr>\n",
       "    <tr>\n",
       "      <th>1</th>\n",
       "      <td>9124c0198ed1109fdc3b41d193b67fe06135b82a3f0012...</td>\n",
       "      <td>SWAP</td>\n",
       "      <td>3791821</td>\n",
       "      <td>64d775e5f56cbde3206fe61044784640c32374ed245b64...</td>\n",
       "      <td>1686524191</td>\n",
       "      <td>11194903423</td>\n",
       "      <td>-100000</td>\n",
       "      <td>0</td>\n",
       "      <td>2023-06-11 22:56:31</td>\n",
       "    </tr>\n",
       "    <tr>\n",
       "      <th>2</th>\n",
       "      <td>9124c0198ed1109fdc3b41d193b67fe06135b82a3f0012...</td>\n",
       "      <td>SWAP</td>\n",
       "      <td>3783208</td>\n",
       "      <td>bd981a80d3968688bb0800373b0afbd88fc910f6f2494e...</td>\n",
       "      <td>1686365673</td>\n",
       "      <td>49999946955</td>\n",
       "      <td>-452990</td>\n",
       "      <td>0</td>\n",
       "      <td>2023-06-10 02:54:33</td>\n",
       "    </tr>\n",
       "    <tr>\n",
       "      <th>3</th>\n",
       "      <td>9124c0198ed1109fdc3b41d193b67fe06135b82a3f0012...</td>\n",
       "      <td>SWAP</td>\n",
       "      <td>3783114</td>\n",
       "      <td>228ef267b62baefbcd69af238c25350b1904f9495112b5...</td>\n",
       "      <td>1686363923</td>\n",
       "      <td>19999976134</td>\n",
       "      <td>-184183</td>\n",
       "      <td>0</td>\n",
       "      <td>2023-06-10 02:25:23</td>\n",
       "    </tr>\n",
       "    <tr>\n",
       "      <th>4</th>\n",
       "      <td>9124c0198ed1109fdc3b41d193b67fe06135b82a3f0012...</td>\n",
       "      <td>SWAP</td>\n",
       "      <td>3783017</td>\n",
       "      <td>02a71eb068f6076f435adf5d6c2ecfa788596ba0b1b4c9...</td>\n",
       "      <td>1686362585</td>\n",
       "      <td>499999986537</td>\n",
       "      <td>-5247188</td>\n",
       "      <td>0</td>\n",
       "      <td>2023-06-10 02:03:05</td>\n",
       "    </tr>\n",
       "    <tr>\n",
       "      <th>5</th>\n",
       "      <td>9124c0198ed1109fdc3b41d193b67fe06135b82a3f0012...</td>\n",
       "      <td>SWAP</td>\n",
       "      <td>3782598</td>\n",
       "      <td>20466e8d2cfecc7285ddc2b92bf3f35a374a942fafaf41...</td>\n",
       "      <td>1686354623</td>\n",
       "      <td>-466867310522</td>\n",
       "      <td>5000000</td>\n",
       "      <td>0</td>\n",
       "      <td>2023-06-09 23:50:23</td>\n",
       "    </tr>\n",
       "    <tr>\n",
       "      <th>6</th>\n",
       "      <td>9124c0198ed1109fdc3b41d193b67fe06135b82a3f0012...</td>\n",
       "      <td>SWAP</td>\n",
       "      <td>3775212</td>\n",
       "      <td>f409cd53c3f28acd260a5553ce0da2954c46e0b91adbc3...</td>\n",
       "      <td>1686216158</td>\n",
       "      <td>52612677973</td>\n",
       "      <td>-500000</td>\n",
       "      <td>0</td>\n",
       "      <td>2023-06-08 09:22:38</td>\n",
       "    </tr>\n",
       "    <tr>\n",
       "      <th>7</th>\n",
       "      <td>9124c0198ed1109fdc3b41d193b67fe06135b82a3f0012...</td>\n",
       "      <td>SWAP</td>\n",
       "      <td>3771037</td>\n",
       "      <td>da48e215f3b008bf5da4f30272da1a1dbcd0b660aa6002...</td>\n",
       "      <td>1686136123</td>\n",
       "      <td>200000000000</td>\n",
       "      <td>-2025017</td>\n",
       "      <td>0</td>\n",
       "      <td>2023-06-07 11:08:43</td>\n",
       "    </tr>\n",
       "    <tr>\n",
       "      <th>8</th>\n",
       "      <td>9124c0198ed1109fdc3b41d193b67fe06135b82a3f0012...</td>\n",
       "      <td>SWAP</td>\n",
       "      <td>3767064</td>\n",
       "      <td>3e9b740737c6a183dc54e2573e097dc3d210c072dfc4a2...</td>\n",
       "      <td>1686062718</td>\n",
       "      <td>-154143842754</td>\n",
       "      <td>1600000</td>\n",
       "      <td>0</td>\n",
       "      <td>2023-06-06 14:45:18</td>\n",
       "    </tr>\n",
       "    <tr>\n",
       "      <th>9</th>\n",
       "      <td>9124c0198ed1109fdc3b41d193b67fe06135b82a3f0012...</td>\n",
       "      <td>SWAP</td>\n",
       "      <td>3766871</td>\n",
       "      <td>4c6a176a3ba3c5a8296e182c11941b04928142a8d7c041...</td>\n",
       "      <td>1686059463</td>\n",
       "      <td>80000000000</td>\n",
       "      <td>-803282</td>\n",
       "      <td>0</td>\n",
       "      <td>2023-06-06 13:51:03</td>\n",
       "    </tr>\n",
       "    <tr>\n",
       "      <th>10</th>\n",
       "      <td>9124c0198ed1109fdc3b41d193b67fe06135b82a3f0012...</td>\n",
       "      <td>SWAP</td>\n",
       "      <td>3765260</td>\n",
       "      <td>f0d019a761686c57d803d3c1b7b07a46f8c80840ce47e8...</td>\n",
       "      <td>1686029849</td>\n",
       "      <td>-73552346166</td>\n",
       "      <td>750000</td>\n",
       "      <td>0</td>\n",
       "      <td>2023-06-06 05:37:29</td>\n",
       "    </tr>\n",
       "  </tbody>\n",
       "</table>\n",
       "</div>"
      ],
      "text/plain": [
       "                                     pair_launcher_id operation   height  \\\n",
       "0   9124c0198ed1109fdc3b41d193b67fe06135b82a3f0012...      SWAP  3791941   \n",
       "1   9124c0198ed1109fdc3b41d193b67fe06135b82a3f0012...      SWAP  3791821   \n",
       "2   9124c0198ed1109fdc3b41d193b67fe06135b82a3f0012...      SWAP  3783208   \n",
       "3   9124c0198ed1109fdc3b41d193b67fe06135b82a3f0012...      SWAP  3783114   \n",
       "4   9124c0198ed1109fdc3b41d193b67fe06135b82a3f0012...      SWAP  3783017   \n",
       "5   9124c0198ed1109fdc3b41d193b67fe06135b82a3f0012...      SWAP  3782598   \n",
       "6   9124c0198ed1109fdc3b41d193b67fe06135b82a3f0012...      SWAP  3775212   \n",
       "7   9124c0198ed1109fdc3b41d193b67fe06135b82a3f0012...      SWAP  3771037   \n",
       "8   9124c0198ed1109fdc3b41d193b67fe06135b82a3f0012...      SWAP  3767064   \n",
       "9   9124c0198ed1109fdc3b41d193b67fe06135b82a3f0012...      SWAP  3766871   \n",
       "10  9124c0198ed1109fdc3b41d193b67fe06135b82a3f0012...      SWAP  3765260   \n",
       "\n",
       "                                              coin_id   timestamp  \\\n",
       "0   a18be0c4e4f78856809df9d68cd401d91b1986608de272...  1686526741   \n",
       "1   64d775e5f56cbde3206fe61044784640c32374ed245b64...  1686524191   \n",
       "2   bd981a80d3968688bb0800373b0afbd88fc910f6f2494e...  1686365673   \n",
       "3   228ef267b62baefbcd69af238c25350b1904f9495112b5...  1686363923   \n",
       "4   02a71eb068f6076f435adf5d6c2ecfa788596ba0b1b4c9...  1686362585   \n",
       "5   20466e8d2cfecc7285ddc2b92bf3f35a374a942fafaf41...  1686354623   \n",
       "6   f409cd53c3f28acd260a5553ce0da2954c46e0b91adbc3...  1686216158   \n",
       "7   da48e215f3b008bf5da4f30272da1a1dbcd0b660aa6002...  1686136123   \n",
       "8   3e9b740737c6a183dc54e2573e097dc3d210c072dfc4a2...  1686062718   \n",
       "9   4c6a176a3ba3c5a8296e182c11941b04928142a8d7c041...  1686059463   \n",
       "10  f0d019a761686c57d803d3c1b7b07a46f8c80840ce47e8...  1686029849   \n",
       "\n",
       "    state_change.xch  state_change.token  state_change.liquidity  \\\n",
       "0        22554202054             -200000                       0   \n",
       "1        11194903423             -100000                       0   \n",
       "2        49999946955             -452990                       0   \n",
       "3        19999976134             -184183                       0   \n",
       "4       499999986537            -5247188                       0   \n",
       "5      -466867310522             5000000                       0   \n",
       "6        52612677973             -500000                       0   \n",
       "7       200000000000            -2025017                       0   \n",
       "8      -154143842754             1600000                       0   \n",
       "9        80000000000             -803282                       0   \n",
       "10      -73552346166              750000                       0   \n",
       "\n",
       "                  time  \n",
       "0  2023-06-11 23:39:01  \n",
       "1  2023-06-11 22:56:31  \n",
       "2  2023-06-10 02:54:33  \n",
       "3  2023-06-10 02:25:23  \n",
       "4  2023-06-10 02:03:05  \n",
       "5  2023-06-09 23:50:23  \n",
       "6  2023-06-08 09:22:38  \n",
       "7  2023-06-07 11:08:43  \n",
       "8  2023-06-06 14:45:18  \n",
       "9  2023-06-06 13:51:03  \n",
       "10 2023-06-06 05:37:29  "
      ]
     },
     "execution_count": 13,
     "metadata": {},
     "output_type": "execute_result"
    }
   ],
   "source": [
    "stdg.get_transactions(op='SWAP')"
   ]
  },
  {
   "cell_type": "code",
   "execution_count": 14,
   "id": "ec09fcb8",
   "metadata": {},
   "outputs": [
    {
     "data": {
      "text/html": [
       "<div>\n",
       "<style scoped>\n",
       "    .dataframe tbody tr th:only-of-type {\n",
       "        vertical-align: middle;\n",
       "    }\n",
       "\n",
       "    .dataframe tbody tr th {\n",
       "        vertical-align: top;\n",
       "    }\n",
       "\n",
       "    .dataframe thead th {\n",
       "        text-align: right;\n",
       "    }\n",
       "</style>\n",
       "<table border=\"1\" class=\"dataframe\">\n",
       "  <thead>\n",
       "    <tr style=\"text-align: right;\">\n",
       "      <th></th>\n",
       "      <th>launcher_id</th>\n",
       "      <th>name</th>\n",
       "      <th>short_name</th>\n",
       "      <th>image_url</th>\n",
       "      <th>asset_id</th>\n",
       "      <th>current_coin_id</th>\n",
       "      <th>xch_reserve</th>\n",
       "      <th>token_reserve</th>\n",
       "      <th>liquidity</th>\n",
       "      <th>trade_volume</th>\n",
       "    </tr>\n",
       "  </thead>\n",
       "  <tbody>\n",
       "    <tr>\n",
       "      <th>0</th>\n",
       "      <td>b7772fbcb3a297555f2dd75368ee85069c50d294902b40...</td>\n",
       "      <td>Stably USD</td>\n",
       "      <td>USDS</td>\n",
       "      <td>https://nftstorage.link/ipfs/bafybeibsolxdn3yn...</td>\n",
       "      <td>6d95dae356e32a71db5ddcb42224754a02524c615c5fc3...</td>\n",
       "      <td>ac62c299cbfd373a8e4a92cfdbe8b10b28d0d3ef3b155a...</td>\n",
       "      <td>343059898658450</td>\n",
       "      <td>11366853</td>\n",
       "      <td>11941763</td>\n",
       "      <td>360740594506141</td>\n",
       "    </tr>\n",
       "    <tr>\n",
       "      <th>1</th>\n",
       "      <td>636a5be72b9974d28393fbff1249e28dcdfb86b0bb9245...</td>\n",
       "      <td>Big Brain Token</td>\n",
       "      <td>BBT</td>\n",
       "      <td>https://bigbrain.at/bigbraintoken.png</td>\n",
       "      <td>9e04d998a90bca05bdbc301548c83104d79256f1b00bb2...</td>\n",
       "      <td>4ffa74283c1a7d41f5da0851470cf280809b7851700665...</td>\n",
       "      <td>182977000625777</td>\n",
       "      <td>211117622021</td>\n",
       "      <td>6112833045903</td>\n",
       "      <td>299897566346812</td>\n",
       "    </tr>\n",
       "    <tr>\n",
       "      <th>2</th>\n",
       "      <td>6dc7a439046ae61bf51e3af7e960ab691dbe6d58ddb289...</td>\n",
       "      <td>DeltaXtrade</td>\n",
       "      <td>DXT</td>\n",
       "      <td>https://nftstorage.link/ipfs/bafybeihklkvffcwg...</td>\n",
       "      <td>a7c8135b134e1a477563480febefd2e2091afe15d24ab5...</td>\n",
       "      <td>5b88ea0d81fe7c349232c5180d47aad35418e3c7b60a1d...</td>\n",
       "      <td>128235801668250</td>\n",
       "      <td>137577</td>\n",
       "      <td>158578</td>\n",
       "      <td>9373639859586</td>\n",
       "    </tr>\n",
       "    <tr>\n",
       "      <th>3</th>\n",
       "      <td>b62577aed2b09182f3db8b21049d687b597f1526fb8826...</td>\n",
       "      <td>PepeCoin</td>\n",
       "      <td>PEPE</td>\n",
       "      <td>https://nftstorage.link/ipfs/bafybeibtolqdipv4...</td>\n",
       "      <td>ec9d874e152e888231024c72e391fc484e8b6a1cf74443...</td>\n",
       "      <td>f9af69e66cae24bf6bc491f7dc0a5c9aefb20f8ee5263b...</td>\n",
       "      <td>123908743276887</td>\n",
       "      <td>49798973953</td>\n",
       "      <td>38790482670</td>\n",
       "      <td>375997086988279</td>\n",
       "    </tr>\n",
       "    <tr>\n",
       "      <th>4</th>\n",
       "      <td>c0952d9c3761302a5545f4c04615a855396b1570be5c61...</td>\n",
       "      <td>Dexie Bucks</td>\n",
       "      <td>DBX</td>\n",
       "      <td>https://nftstorage.link/ipfs/bafybeidiupubzjzn...</td>\n",
       "      <td>db1a9020d48d9d4ad22631b66ab4b9ebd3637ef7758ad3...</td>\n",
       "      <td>0f8a6145900e94d30457b1f87939cc1bfa49478e8f0e38...</td>\n",
       "      <td>108223385623664</td>\n",
       "      <td>37707141</td>\n",
       "      <td>31594406</td>\n",
       "      <td>118153167218781</td>\n",
       "    </tr>\n",
       "  </tbody>\n",
       "</table>\n",
       "</div>"
      ],
      "text/plain": [
       "                                         launcher_id             name  \\\n",
       "0  b7772fbcb3a297555f2dd75368ee85069c50d294902b40...       Stably USD   \n",
       "1  636a5be72b9974d28393fbff1249e28dcdfb86b0bb9245...  Big Brain Token   \n",
       "2  6dc7a439046ae61bf51e3af7e960ab691dbe6d58ddb289...      DeltaXtrade   \n",
       "3  b62577aed2b09182f3db8b21049d687b597f1526fb8826...         PepeCoin   \n",
       "4  c0952d9c3761302a5545f4c04615a855396b1570be5c61...      Dexie Bucks   \n",
       "\n",
       "  short_name                                          image_url  \\\n",
       "0       USDS  https://nftstorage.link/ipfs/bafybeibsolxdn3yn...   \n",
       "1        BBT              https://bigbrain.at/bigbraintoken.png   \n",
       "2        DXT  https://nftstorage.link/ipfs/bafybeihklkvffcwg...   \n",
       "3       PEPE  https://nftstorage.link/ipfs/bafybeibtolqdipv4...   \n",
       "4        DBX  https://nftstorage.link/ipfs/bafybeidiupubzjzn...   \n",
       "\n",
       "                                            asset_id  \\\n",
       "0  6d95dae356e32a71db5ddcb42224754a02524c615c5fc3...   \n",
       "1  9e04d998a90bca05bdbc301548c83104d79256f1b00bb2...   \n",
       "2  a7c8135b134e1a477563480febefd2e2091afe15d24ab5...   \n",
       "3  ec9d874e152e888231024c72e391fc484e8b6a1cf74443...   \n",
       "4  db1a9020d48d9d4ad22631b66ab4b9ebd3637ef7758ad3...   \n",
       "\n",
       "                                     current_coin_id      xch_reserve  \\\n",
       "0  ac62c299cbfd373a8e4a92cfdbe8b10b28d0d3ef3b155a...  343059898658450   \n",
       "1  4ffa74283c1a7d41f5da0851470cf280809b7851700665...  182977000625777   \n",
       "2  5b88ea0d81fe7c349232c5180d47aad35418e3c7b60a1d...  128235801668250   \n",
       "3  f9af69e66cae24bf6bc491f7dc0a5c9aefb20f8ee5263b...  123908743276887   \n",
       "4  0f8a6145900e94d30457b1f87939cc1bfa49478e8f0e38...  108223385623664   \n",
       "\n",
       "   token_reserve      liquidity     trade_volume  \n",
       "0       11366853       11941763  360740594506141  \n",
       "1   211117622021  6112833045903  299897566346812  \n",
       "2         137577         158578    9373639859586  \n",
       "3    49798973953    38790482670  375997086988279  \n",
       "4       37707141       31594406  118153167218781  "
      ]
     },
     "execution_count": 14,
     "metadata": {},
     "output_type": "execute_result"
    }
   ],
   "source": [
    "pairs.data.head()"
   ]
  },
  {
   "cell_type": "code",
   "execution_count": 15,
   "id": "af2f0d33",
   "metadata": {},
   "outputs": [
    {
     "data": {
      "text/plain": [
       "14.796402850991285"
      ]
     },
     "execution_count": 15,
     "metadata": {},
     "output_type": "execute_result"
    }
   ],
   "source": [
    "pepe = Pair(pairs, 'PEPE')\n",
    "pepe.get_recovery_period()"
   ]
  },
  {
   "cell_type": "code",
   "execution_count": 16,
   "id": "dccecd89",
   "metadata": {},
   "outputs": [
    {
     "data": {
      "text/plain": [
       "0.058538168850058137"
      ]
     },
     "execution_count": 16,
     "metadata": {},
     "output_type": "execute_result"
    }
   ],
   "source": [
    "pepe.get_annualized_yield()"
   ]
  },
  {
   "cell_type": "code",
   "execution_count": null,
   "id": "6398cfbc",
   "metadata": {},
   "outputs": [],
   "source": []
  }
 ],
 "metadata": {
  "kernelspec": {
   "display_name": "Python 3 (ipykernel)",
   "language": "python",
   "name": "python3"
  },
  "language_info": {
   "codemirror_mode": {
    "name": "ipython",
    "version": 3
   },
   "file_extension": ".py",
   "mimetype": "text/x-python",
   "name": "python",
   "nbconvert_exporter": "python",
   "pygments_lexer": "ipython3",
   "version": "3.10.6"
  }
 },
 "nbformat": 4,
 "nbformat_minor": 5
}
