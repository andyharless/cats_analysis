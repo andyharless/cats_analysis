{
 "cells": [
  {
   "cell_type": "code",
   "execution_count": 1,
   "id": "53aece13",
   "metadata": {},
   "outputs": [],
   "source": [
    "import pandas as pd\n",
    "import requests\n",
    "from datetime import datetime, timedelta"
   ]
  },
  {
   "cell_type": "code",
   "execution_count": 2,
   "id": "4251bf67",
   "metadata": {},
   "outputs": [],
   "source": [
    "ANALYTICS_BASE_URL = \"https://api.info.v2.tibetswap.io/\""
   ]
  },
  {
   "cell_type": "code",
   "execution_count": 3,
   "id": "cfe82e3f",
   "metadata": {},
   "outputs": [],
   "source": [
    "base_url = ANALYTICS_BASE_URL"
   ]
  },
  {
   "cell_type": "code",
   "execution_count": 4,
   "id": "c4cf03b9",
   "metadata": {},
   "outputs": [],
   "source": [
    "def make_url(base, verb, params=None):\n",
    "    \"\"\"Generate a URL to query a REST API\"\"\"\n",
    "\n",
    "    param_string = ''\n",
    "    if params is not None:\n",
    "        param_string = '?' + '&'.join([f'{k}={v}' for k, v in params.items()])\n",
    "    return base + verb + param_string"
   ]
  },
  {
   "cell_type": "code",
   "execution_count": 5,
   "id": "f2e879f3",
   "metadata": {},
   "outputs": [],
   "source": [
    "class Pairs:\n",
    "    \"\"\"\n",
    "    Handle data about the available asset pairs.\n",
    "    \n",
    "    Assumes each token is paired with XCH.\n",
    "    \"\"\"\n",
    "    \n",
    "    def __init__(self, base_url=ANALYTICS_BASE_URL):\n",
    "        self.base_url = base_url\n",
    "        self.data = None\n",
    "        \n",
    "    def populate(self):\n",
    "        url = make_url(self.base_url, 'pairs')\n",
    "        response = requests.get(url)\n",
    "        response.raise_for_status()\n",
    "        self.data = pd.json_normalize(response.json())\n",
    "        \n",
    "    def refresh(self):\n",
    "        self.populate()\n",
    "        \n",
    "    def get_data_item(self, entity='short_name', field='launcher_id', name='STDG'):\n",
    "        if self.data is None:\n",
    "            self.populate()\n",
    "        return self.data[self.data[entity] == name][field].values[0]\n",
    "    \n",
    "    def get_launcher_id(self, token):\n",
    "        return self.get_data_item(field='launcher_id', name=token)\n",
    "    \n",
    "    def get_xch_reserve(self, token):\n",
    "        return self.get_data_item(field='xch_reserve', name=token).astype('float') / 1e12\n",
    "    \n",
    "    def get_transactions(self, token, lookback=7, op=None, limit=None):\n",
    "        params = {}\n",
    "        params['pair_launcher_id'] = self.get_launcher_id(token)\n",
    "        if op is not None:\n",
    "            params['operation'] = op\n",
    "        if limit is not None:\n",
    "            params['limit'] = limit\n",
    "        url = make_url(base_url, 'transactions', params)\n",
    "        response = requests.get(url)\n",
    "        response.raise_for_status()\n",
    "        df = pd.json_normalize(response.json())\n",
    "        df['time'] = pd.to_datetime(df.timestamp, unit='s')\n",
    "        start = datetime.now() - timedelta(days=lookback)\n",
    "        return df[df.time > start].copy()\n",
    "    \n",
    "    def get_volume(self, token, lookback=7):\n",
    "        df = self.get_transactions(token, lookback=lookback, op='SWAP')\n",
    "        return df['state_change.xch'].abs().sum().astype('float') / 1e12"
   ]
  },
  {
   "cell_type": "code",
   "execution_count": 6,
   "id": "145a7917",
   "metadata": {},
   "outputs": [],
   "source": [
    "class Pair:\n",
    "    \"\"\"\n",
    "    Get information about a particular asset pair.\n",
    "    \n",
    "    Assumes a token is paired with XCH.\n",
    "    \"\"\"\n",
    "    \n",
    "    def __init__(self, pairs, token_short_name):\n",
    "        self.pairs = pairs\n",
    "        self.token = token_short_name\n",
    "        self.launcher_id = pairs.get_launcher_id(self.token)\n",
    "        \n",
    "    def refresh(self):\n",
    "        self.pairs.refresh()\n",
    "        # Will also need to refresh any token-specific caches, but there aren't any yet\n",
    "        \n",
    "    def get_transactions(self, lookback=7, op=None, limit=None):\n",
    "        return self.pairs.get_transactions(self.token, lookback=7, op=op, limit=limit)\n",
    "        \n",
    "    def get_volume(self, lookback=7):\n",
    "        return self.pairs.get_volume(self.token, lookback)\n",
    "    \n",
    "    def get_xch_reserve(self):\n",
    "        return self.pairs.get_xch_reserve(self.token)\n",
    "\n",
    "    def get_periodic_yield(self, lookback=7):\n",
    "        return self.get_volume(lookback) * 0.0035 / self.get_xch_reserve()\n",
    "    \n",
    "    def get_annualized_yield(self, lookback=7):\n",
    "        return (1 + self.get_periodic_yield(lookback)) ** (365.25 / lookback) - 1\n",
    "    \n",
    "    def get_price_impact_threshold(self, impact=0.02):\n",
    "        return impact * self.get_xch_reserve() / 2\n",
    "    \n",
    "    def get_recovery_period(self, size=1, unit=7):\n",
    "        return (2 * size / self.get_xch_reserve()) / self.get_periodic_yield(lookback=unit)"
   ]
  },
  {
   "cell_type": "code",
   "execution_count": 7,
   "id": "1e5f57e0",
   "metadata": {},
   "outputs": [
    {
     "data": {
      "text/plain": [
       "1.597176087041"
      ]
     },
     "execution_count": 7,
     "metadata": {},
     "output_type": "execute_result"
    }
   ],
   "source": [
    "pairs = Pairs()\n",
    "stdg = Pair(pairs, 'STDG')\n",
    "stdg.get_volume()"
   ]
  },
  {
   "cell_type": "code",
   "execution_count": 8,
   "id": "1a7c8b12",
   "metadata": {},
   "outputs": [
    {
     "data": {
      "text/plain": [
       "4.574957305951"
      ]
     },
     "execution_count": 8,
     "metadata": {},
     "output_type": "execute_result"
    }
   ],
   "source": [
    "stdg.get_xch_reserve()"
   ]
  },
  {
   "cell_type": "code",
   "execution_count": 9,
   "id": "1a9250e4",
   "metadata": {},
   "outputs": [
    {
     "data": {
      "text/plain": [
       "0.06579159215779229"
      ]
     },
     "execution_count": 9,
     "metadata": {},
     "output_type": "execute_result"
    }
   ],
   "source": [
    "stdg.get_annualized_yield()"
   ]
  },
  {
   "cell_type": "code",
   "execution_count": 10,
   "id": "822345ef",
   "metadata": {},
   "outputs": [
    {
     "data": {
      "text/plain": [
       "0.04574957305951"
      ]
     },
     "execution_count": 10,
     "metadata": {},
     "output_type": "execute_result"
    }
   ],
   "source": [
    "stdg.get_price_impact_threshold()"
   ]
  },
  {
   "cell_type": "code",
   "execution_count": 11,
   "id": "02bab6f1",
   "metadata": {},
   "outputs": [
    {
     "data": {
      "text/plain": [
       "357.7743093356886"
      ]
     },
     "execution_count": 11,
     "metadata": {},
     "output_type": "execute_result"
    }
   ],
   "source": [
    "stdg.get_recovery_period()"
   ]
  },
  {
   "cell_type": "code",
   "execution_count": 12,
   "id": "19a20cfd",
   "metadata": {},
   "outputs": [
    {
     "data": {
      "text/plain": [
       "48.404130082718"
      ]
     },
     "execution_count": 12,
     "metadata": {},
     "output_type": "execute_result"
    }
   ],
   "source": [
    "usds = Pair(pairs, 'USDS')\n",
    "usds.get_volume()"
   ]
  },
  {
   "cell_type": "code",
   "execution_count": 13,
   "id": "7f596453",
   "metadata": {},
   "outputs": [
    {
     "data": {
      "text/plain": [
       "11.805368063676696"
      ]
     },
     "execution_count": 13,
     "metadata": {},
     "output_type": "execute_result"
    }
   ],
   "source": [
    "usds.get_recovery_period()"
   ]
  },
  {
   "cell_type": "code",
   "execution_count": 14,
   "id": "3e7d5aba",
   "metadata": {},
   "outputs": [
    {
     "data": {
      "text/plain": [
       "80.25438164575237"
      ]
     },
     "execution_count": 14,
     "metadata": {},
     "output_type": "execute_result"
    }
   ],
   "source": [
    "incl4 = Pair(pairs, 'INCL4')\n",
    "incl4.get_recovery_period()"
   ]
  },
  {
   "cell_type": "code",
   "execution_count": 15,
   "id": "40d05fd8",
   "metadata": {},
   "outputs": [
    {
     "data": {
      "text/plain": [
       "8.025438164575238"
      ]
     },
     "execution_count": 15,
     "metadata": {},
     "output_type": "execute_result"
    }
   ],
   "source": [
    "incl4.get_recovery_period(0.1)"
   ]
  },
  {
   "cell_type": "code",
   "execution_count": 16,
   "id": "a4525aee",
   "metadata": {},
   "outputs": [
    {
     "data": {
      "text/plain": [
       "(0.3122653347669977, 4.772485328489)"
      ]
     },
     "execution_count": 16,
     "metadata": {},
     "output_type": "execute_result"
    }
   ],
   "source": [
    "incl4.get_annualized_yield(), incl4.get_xch_reserve()"
   ]
  },
  {
   "cell_type": "code",
   "execution_count": 17,
   "id": "414c6a60",
   "metadata": {},
   "outputs": [
    {
     "data": {
      "text/plain": [
       "7.120216488003"
      ]
     },
     "execution_count": 17,
     "metadata": {},
     "output_type": "execute_result"
    }
   ],
   "source": [
    "incl4.get_volume()"
   ]
  },
  {
   "cell_type": "code",
   "execution_count": 18,
   "id": "866025f8",
   "metadata": {},
   "outputs": [
    {
     "data": {
      "text/html": [
       "<div>\n",
       "<style scoped>\n",
       "    .dataframe tbody tr th:only-of-type {\n",
       "        vertical-align: middle;\n",
       "    }\n",
       "\n",
       "    .dataframe tbody tr th {\n",
       "        vertical-align: top;\n",
       "    }\n",
       "\n",
       "    .dataframe thead th {\n",
       "        text-align: right;\n",
       "    }\n",
       "</style>\n",
       "<table border=\"1\" class=\"dataframe\">\n",
       "  <thead>\n",
       "    <tr style=\"text-align: right;\">\n",
       "      <th></th>\n",
       "      <th>pair_launcher_id</th>\n",
       "      <th>operation</th>\n",
       "      <th>height</th>\n",
       "      <th>coin_id</th>\n",
       "      <th>timestamp</th>\n",
       "      <th>state_change.xch</th>\n",
       "      <th>state_change.token</th>\n",
       "      <th>state_change.liquidity</th>\n",
       "      <th>time</th>\n",
       "    </tr>\n",
       "  </thead>\n",
       "  <tbody>\n",
       "    <tr>\n",
       "      <th>0</th>\n",
       "      <td>9124c0198ed1109fdc3b41d193b67fe06135b82a3f0012...</td>\n",
       "      <td>SWAP</td>\n",
       "      <td>3783208</td>\n",
       "      <td>bd981a80d3968688bb0800373b0afbd88fc910f6f2494e...</td>\n",
       "      <td>1686365673</td>\n",
       "      <td>49999946955</td>\n",
       "      <td>-452990</td>\n",
       "      <td>0</td>\n",
       "      <td>2023-06-10 02:54:33</td>\n",
       "    </tr>\n",
       "    <tr>\n",
       "      <th>1</th>\n",
       "      <td>9124c0198ed1109fdc3b41d193b67fe06135b82a3f0012...</td>\n",
       "      <td>SWAP</td>\n",
       "      <td>3783114</td>\n",
       "      <td>228ef267b62baefbcd69af238c25350b1904f9495112b5...</td>\n",
       "      <td>1686363923</td>\n",
       "      <td>19999976134</td>\n",
       "      <td>-184183</td>\n",
       "      <td>0</td>\n",
       "      <td>2023-06-10 02:25:23</td>\n",
       "    </tr>\n",
       "    <tr>\n",
       "      <th>2</th>\n",
       "      <td>9124c0198ed1109fdc3b41d193b67fe06135b82a3f0012...</td>\n",
       "      <td>SWAP</td>\n",
       "      <td>3783017</td>\n",
       "      <td>02a71eb068f6076f435adf5d6c2ecfa788596ba0b1b4c9...</td>\n",
       "      <td>1686362585</td>\n",
       "      <td>499999986537</td>\n",
       "      <td>-5247188</td>\n",
       "      <td>0</td>\n",
       "      <td>2023-06-10 02:03:05</td>\n",
       "    </tr>\n",
       "    <tr>\n",
       "      <th>3</th>\n",
       "      <td>9124c0198ed1109fdc3b41d193b67fe06135b82a3f0012...</td>\n",
       "      <td>SWAP</td>\n",
       "      <td>3782598</td>\n",
       "      <td>20466e8d2cfecc7285ddc2b92bf3f35a374a942fafaf41...</td>\n",
       "      <td>1686354623</td>\n",
       "      <td>-466867310522</td>\n",
       "      <td>5000000</td>\n",
       "      <td>0</td>\n",
       "      <td>2023-06-09 23:50:23</td>\n",
       "    </tr>\n",
       "    <tr>\n",
       "      <th>4</th>\n",
       "      <td>9124c0198ed1109fdc3b41d193b67fe06135b82a3f0012...</td>\n",
       "      <td>SWAP</td>\n",
       "      <td>3775212</td>\n",
       "      <td>f409cd53c3f28acd260a5553ce0da2954c46e0b91adbc3...</td>\n",
       "      <td>1686216158</td>\n",
       "      <td>52612677973</td>\n",
       "      <td>-500000</td>\n",
       "      <td>0</td>\n",
       "      <td>2023-06-08 09:22:38</td>\n",
       "    </tr>\n",
       "    <tr>\n",
       "      <th>5</th>\n",
       "      <td>9124c0198ed1109fdc3b41d193b67fe06135b82a3f0012...</td>\n",
       "      <td>SWAP</td>\n",
       "      <td>3771037</td>\n",
       "      <td>da48e215f3b008bf5da4f30272da1a1dbcd0b660aa6002...</td>\n",
       "      <td>1686136123</td>\n",
       "      <td>200000000000</td>\n",
       "      <td>-2025017</td>\n",
       "      <td>0</td>\n",
       "      <td>2023-06-07 11:08:43</td>\n",
       "    </tr>\n",
       "    <tr>\n",
       "      <th>6</th>\n",
       "      <td>9124c0198ed1109fdc3b41d193b67fe06135b82a3f0012...</td>\n",
       "      <td>SWAP</td>\n",
       "      <td>3767064</td>\n",
       "      <td>3e9b740737c6a183dc54e2573e097dc3d210c072dfc4a2...</td>\n",
       "      <td>1686062718</td>\n",
       "      <td>-154143842754</td>\n",
       "      <td>1600000</td>\n",
       "      <td>0</td>\n",
       "      <td>2023-06-06 14:45:18</td>\n",
       "    </tr>\n",
       "    <tr>\n",
       "      <th>7</th>\n",
       "      <td>9124c0198ed1109fdc3b41d193b67fe06135b82a3f0012...</td>\n",
       "      <td>SWAP</td>\n",
       "      <td>3766871</td>\n",
       "      <td>4c6a176a3ba3c5a8296e182c11941b04928142a8d7c041...</td>\n",
       "      <td>1686059463</td>\n",
       "      <td>80000000000</td>\n",
       "      <td>-803282</td>\n",
       "      <td>0</td>\n",
       "      <td>2023-06-06 13:51:03</td>\n",
       "    </tr>\n",
       "    <tr>\n",
       "      <th>8</th>\n",
       "      <td>9124c0198ed1109fdc3b41d193b67fe06135b82a3f0012...</td>\n",
       "      <td>SWAP</td>\n",
       "      <td>3765260</td>\n",
       "      <td>f0d019a761686c57d803d3c1b7b07a46f8c80840ce47e8...</td>\n",
       "      <td>1686029849</td>\n",
       "      <td>-73552346166</td>\n",
       "      <td>750000</td>\n",
       "      <td>0</td>\n",
       "      <td>2023-06-06 05:37:29</td>\n",
       "    </tr>\n",
       "  </tbody>\n",
       "</table>\n",
       "</div>"
      ],
      "text/plain": [
       "                                    pair_launcher_id operation   height  \\\n",
       "0  9124c0198ed1109fdc3b41d193b67fe06135b82a3f0012...      SWAP  3783208   \n",
       "1  9124c0198ed1109fdc3b41d193b67fe06135b82a3f0012...      SWAP  3783114   \n",
       "2  9124c0198ed1109fdc3b41d193b67fe06135b82a3f0012...      SWAP  3783017   \n",
       "3  9124c0198ed1109fdc3b41d193b67fe06135b82a3f0012...      SWAP  3782598   \n",
       "4  9124c0198ed1109fdc3b41d193b67fe06135b82a3f0012...      SWAP  3775212   \n",
       "5  9124c0198ed1109fdc3b41d193b67fe06135b82a3f0012...      SWAP  3771037   \n",
       "6  9124c0198ed1109fdc3b41d193b67fe06135b82a3f0012...      SWAP  3767064   \n",
       "7  9124c0198ed1109fdc3b41d193b67fe06135b82a3f0012...      SWAP  3766871   \n",
       "8  9124c0198ed1109fdc3b41d193b67fe06135b82a3f0012...      SWAP  3765260   \n",
       "\n",
       "                                             coin_id   timestamp  \\\n",
       "0  bd981a80d3968688bb0800373b0afbd88fc910f6f2494e...  1686365673   \n",
       "1  228ef267b62baefbcd69af238c25350b1904f9495112b5...  1686363923   \n",
       "2  02a71eb068f6076f435adf5d6c2ecfa788596ba0b1b4c9...  1686362585   \n",
       "3  20466e8d2cfecc7285ddc2b92bf3f35a374a942fafaf41...  1686354623   \n",
       "4  f409cd53c3f28acd260a5553ce0da2954c46e0b91adbc3...  1686216158   \n",
       "5  da48e215f3b008bf5da4f30272da1a1dbcd0b660aa6002...  1686136123   \n",
       "6  3e9b740737c6a183dc54e2573e097dc3d210c072dfc4a2...  1686062718   \n",
       "7  4c6a176a3ba3c5a8296e182c11941b04928142a8d7c041...  1686059463   \n",
       "8  f0d019a761686c57d803d3c1b7b07a46f8c80840ce47e8...  1686029849   \n",
       "\n",
       "   state_change.xch  state_change.token  state_change.liquidity  \\\n",
       "0       49999946955             -452990                       0   \n",
       "1       19999976134             -184183                       0   \n",
       "2      499999986537            -5247188                       0   \n",
       "3     -466867310522             5000000                       0   \n",
       "4       52612677973             -500000                       0   \n",
       "5      200000000000            -2025017                       0   \n",
       "6     -154143842754             1600000                       0   \n",
       "7       80000000000             -803282                       0   \n",
       "8      -73552346166              750000                       0   \n",
       "\n",
       "                 time  \n",
       "0 2023-06-10 02:54:33  \n",
       "1 2023-06-10 02:25:23  \n",
       "2 2023-06-10 02:03:05  \n",
       "3 2023-06-09 23:50:23  \n",
       "4 2023-06-08 09:22:38  \n",
       "5 2023-06-07 11:08:43  \n",
       "6 2023-06-06 14:45:18  \n",
       "7 2023-06-06 13:51:03  \n",
       "8 2023-06-06 05:37:29  "
      ]
     },
     "execution_count": 18,
     "metadata": {},
     "output_type": "execute_result"
    }
   ],
   "source": [
    "stdg.get_transactions(op='SWAP')"
   ]
  },
  {
   "cell_type": "code",
   "execution_count": 19,
   "id": "ec09fcb8",
   "metadata": {},
   "outputs": [
    {
     "data": {
      "text/html": [
       "<div>\n",
       "<style scoped>\n",
       "    .dataframe tbody tr th:only-of-type {\n",
       "        vertical-align: middle;\n",
       "    }\n",
       "\n",
       "    .dataframe tbody tr th {\n",
       "        vertical-align: top;\n",
       "    }\n",
       "\n",
       "    .dataframe thead th {\n",
       "        text-align: right;\n",
       "    }\n",
       "</style>\n",
       "<table border=\"1\" class=\"dataframe\">\n",
       "  <thead>\n",
       "    <tr style=\"text-align: right;\">\n",
       "      <th></th>\n",
       "      <th>launcher_id</th>\n",
       "      <th>name</th>\n",
       "      <th>short_name</th>\n",
       "      <th>image_url</th>\n",
       "      <th>asset_id</th>\n",
       "      <th>current_coin_id</th>\n",
       "      <th>xch_reserve</th>\n",
       "      <th>token_reserve</th>\n",
       "      <th>liquidity</th>\n",
       "      <th>trade_volume</th>\n",
       "    </tr>\n",
       "  </thead>\n",
       "  <tbody>\n",
       "    <tr>\n",
       "      <th>0</th>\n",
       "      <td>b7772fbcb3a297555f2dd75368ee85069c50d294902b40...</td>\n",
       "      <td>Stably USD</td>\n",
       "      <td>USDS</td>\n",
       "      <td>https://nftstorage.link/ipfs/bafybeibsolxdn3yn...</td>\n",
       "      <td>6d95dae356e32a71db5ddcb42224754a02524c615c5fc3...</td>\n",
       "      <td>df1398f0259c12688c09a3c9953caea0a76894b84166e7...</td>\n",
       "      <td>343424796224097</td>\n",
       "      <td>11365179</td>\n",
       "      <td>11947880</td>\n",
       "      <td>355449018579249</td>\n",
       "    </tr>\n",
       "    <tr>\n",
       "      <th>1</th>\n",
       "      <td>636a5be72b9974d28393fbff1249e28dcdfb86b0bb9245...</td>\n",
       "      <td>Big Brain Token</td>\n",
       "      <td>BBT</td>\n",
       "      <td>https://bigbrain.at/bigbraintoken.png</td>\n",
       "      <td>9e04d998a90bca05bdbc301548c83104d79256f1b00bb2...</td>\n",
       "      <td>c27842232b19c76136d449608a918ec8ac0f88f4befdfa...</td>\n",
       "      <td>182487000625949</td>\n",
       "      <td>211680530617</td>\n",
       "      <td>6112833045903</td>\n",
       "      <td>299407566346984</td>\n",
       "    </tr>\n",
       "    <tr>\n",
       "      <th>2</th>\n",
       "      <td>b62577aed2b09182f3db8b21049d687b597f1526fb8826...</td>\n",
       "      <td>PepeCoin</td>\n",
       "      <td>PEPE</td>\n",
       "      <td>https://nftstorage.link/ipfs/bafybeibtolqdipv4...</td>\n",
       "      <td>ec9d874e152e888231024c72e391fc484e8b6a1cf74443...</td>\n",
       "      <td>099c82379167521aef03678d248449ca5933233ee42423...</td>\n",
       "      <td>132291766554397</td>\n",
       "      <td>46333942679</td>\n",
       "      <td>38688759926</td>\n",
       "      <td>350571398964935</td>\n",
       "    </tr>\n",
       "    <tr>\n",
       "      <th>3</th>\n",
       "      <td>6dc7a439046ae61bf51e3af7e960ab691dbe6d58ddb289...</td>\n",
       "      <td>DeltaXtrade</td>\n",
       "      <td>DXT</td>\n",
       "      <td>https://nftstorage.link/ipfs/bafybeihklkvffcwg...</td>\n",
       "      <td>a7c8135b134e1a477563480febefd2e2091afe15d24ab5...</td>\n",
       "      <td>5b88ea0d81fe7c349232c5180d47aad35418e3c7b60a1d...</td>\n",
       "      <td>128235801668250</td>\n",
       "      <td>137577</td>\n",
       "      <td>158578</td>\n",
       "      <td>9373639859586</td>\n",
       "    </tr>\n",
       "    <tr>\n",
       "      <th>4</th>\n",
       "      <td>c0952d9c3761302a5545f4c04615a855396b1570be5c61...</td>\n",
       "      <td>Dexie Bucks</td>\n",
       "      <td>DBX</td>\n",
       "      <td>https://nftstorage.link/ipfs/bafybeidiupubzjzn...</td>\n",
       "      <td>db1a9020d48d9d4ad22631b66ab4b9ebd3637ef7758ad3...</td>\n",
       "      <td>58bbc3611558a7f7f8ec9e0326d080edba013325c1ecc7...</td>\n",
       "      <td>112536160469925</td>\n",
       "      <td>36210179</td>\n",
       "      <td>31594406</td>\n",
       "      <td>95269462200480</td>\n",
       "    </tr>\n",
       "  </tbody>\n",
       "</table>\n",
       "</div>"
      ],
      "text/plain": [
       "                                         launcher_id             name  \\\n",
       "0  b7772fbcb3a297555f2dd75368ee85069c50d294902b40...       Stably USD   \n",
       "1  636a5be72b9974d28393fbff1249e28dcdfb86b0bb9245...  Big Brain Token   \n",
       "2  b62577aed2b09182f3db8b21049d687b597f1526fb8826...         PepeCoin   \n",
       "3  6dc7a439046ae61bf51e3af7e960ab691dbe6d58ddb289...      DeltaXtrade   \n",
       "4  c0952d9c3761302a5545f4c04615a855396b1570be5c61...      Dexie Bucks   \n",
       "\n",
       "  short_name                                          image_url  \\\n",
       "0       USDS  https://nftstorage.link/ipfs/bafybeibsolxdn3yn...   \n",
       "1        BBT              https://bigbrain.at/bigbraintoken.png   \n",
       "2       PEPE  https://nftstorage.link/ipfs/bafybeibtolqdipv4...   \n",
       "3        DXT  https://nftstorage.link/ipfs/bafybeihklkvffcwg...   \n",
       "4        DBX  https://nftstorage.link/ipfs/bafybeidiupubzjzn...   \n",
       "\n",
       "                                            asset_id  \\\n",
       "0  6d95dae356e32a71db5ddcb42224754a02524c615c5fc3...   \n",
       "1  9e04d998a90bca05bdbc301548c83104d79256f1b00bb2...   \n",
       "2  ec9d874e152e888231024c72e391fc484e8b6a1cf74443...   \n",
       "3  a7c8135b134e1a477563480febefd2e2091afe15d24ab5...   \n",
       "4  db1a9020d48d9d4ad22631b66ab4b9ebd3637ef7758ad3...   \n",
       "\n",
       "                                     current_coin_id      xch_reserve  \\\n",
       "0  df1398f0259c12688c09a3c9953caea0a76894b84166e7...  343424796224097   \n",
       "1  c27842232b19c76136d449608a918ec8ac0f88f4befdfa...  182487000625949   \n",
       "2  099c82379167521aef03678d248449ca5933233ee42423...  132291766554397   \n",
       "3  5b88ea0d81fe7c349232c5180d47aad35418e3c7b60a1d...  128235801668250   \n",
       "4  58bbc3611558a7f7f8ec9e0326d080edba013325c1ecc7...  112536160469925   \n",
       "\n",
       "   token_reserve      liquidity     trade_volume  \n",
       "0       11365179       11947880  355449018579249  \n",
       "1   211680530617  6112833045903  299407566346984  \n",
       "2    46333942679    38688759926  350571398964935  \n",
       "3         137577         158578    9373639859586  \n",
       "4       36210179       31594406   95269462200480  "
      ]
     },
     "execution_count": 19,
     "metadata": {},
     "output_type": "execute_result"
    }
   ],
   "source": [
    "pairs.data.head()"
   ]
  },
  {
   "cell_type": "code",
   "execution_count": null,
   "id": "af2f0d33",
   "metadata": {},
   "outputs": [],
   "source": []
  }
 ],
 "metadata": {
  "kernelspec": {
   "display_name": "Python 3 (ipykernel)",
   "language": "python",
   "name": "python3"
  },
  "language_info": {
   "codemirror_mode": {
    "name": "ipython",
    "version": 3
   },
   "file_extension": ".py",
   "mimetype": "text/x-python",
   "name": "python",
   "nbconvert_exporter": "python",
   "pygments_lexer": "ipython3",
   "version": "3.10.6"
  }
 },
 "nbformat": 4,
 "nbformat_minor": 5
}
