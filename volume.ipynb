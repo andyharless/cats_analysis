{
 "cells": [
  {
   "cell_type": "code",
   "execution_count": 3,
   "id": "53aece13",
   "metadata": {},
   "outputs": [],
   "source": [
    "import pandas as pd\n",
    "import requests\n",
    "from datetime import datetime, timedelta"
   ]
  },
  {
   "cell_type": "code",
   "execution_count": 5,
   "id": "4251bf67",
   "metadata": {},
   "outputs": [],
   "source": [
    "ANALYTICS_BASE_URL = \"https://api.info.v2.tibetswap.io/\""
   ]
  },
  {
   "cell_type": "code",
   "execution_count": 6,
   "id": "cfe82e3f",
   "metadata": {},
   "outputs": [],
   "source": [
    "base_url = ANALYTICS_BASE_URL"
   ]
  },
  {
   "cell_type": "code",
   "execution_count": 12,
   "id": "c4cf03b9",
   "metadata": {},
   "outputs": [],
   "source": [
    "def make_url(base, verb, params):\n",
    "    return base + verb + '?' + '&'.join([f'{k}={v}' for k, v in params.items()])"
   ]
  },
  {
   "cell_type": "code",
   "execution_count": 22,
   "id": "bfecb9c7",
   "metadata": {},
   "outputs": [],
   "source": [
    "def get_launcher_id(token):\n",
    "    # should do a lookup, but for now just an example\n",
    "    if token=='STDG':\n",
    "        return '9124c0198ed1109fdc3b41d193b67fe06135b82a3f00129d66650f47ff51151b'\n",
    "    else:\n",
    "        return NotImplemented"
   ]
  },
  {
   "cell_type": "code",
   "execution_count": 28,
   "id": "49f56ace",
   "metadata": {},
   "outputs": [],
   "source": [
    "def get_transactions(token, lookback=7, op=None, limit=None):\n",
    "    params = {}\n",
    "    params['pair_launcher_id'] = get_launcher_id(token)\n",
    "    if op is not None:\n",
    "        params['operation'] = op\n",
    "    if limit is not None:\n",
    "        params['limit'] = limit\n",
    "    url = make_url(base_url, 'transactions', params)\n",
    "    response = requests.get(url)\n",
    "    code = response.status_code\n",
    "    if code != 200:\n",
    "        return f'Failed with status code {code}'\n",
    "    df = pd.json_normalize(response.json())\n",
    "    df['time'] = pd.to_datetime(df.timestamp, unit='s')\n",
    "    start = datetime.now() - timedelta(days=lookback)\n",
    "    return df[df.time > start].copy()"
   ]
  },
  {
   "cell_type": "code",
   "execution_count": 36,
   "id": "d4885159",
   "metadata": {},
   "outputs": [],
   "source": [
    "def get_volume(token, lookback=7):\n",
    "    df = get_transactions(token, lookback=lookback, op='SWAP')\n",
    "    if type(df) == str:\n",
    "        return df\n",
    "    return df['state_change.xch'].abs().sum().astype('float') / 1e12"
   ]
  },
  {
   "cell_type": "code",
   "execution_count": 38,
   "id": "aaef3162",
   "metadata": {},
   "outputs": [
    {
     "data": {
      "text/plain": [
       "0.728811535696"
      ]
     },
     "execution_count": 38,
     "metadata": {},
     "output_type": "execute_result"
    }
   ],
   "source": [
    "get_volume('STDG')"
   ]
  },
  {
   "cell_type": "code",
   "execution_count": 39,
   "id": "866025f8",
   "metadata": {},
   "outputs": [
    {
     "data": {
      "text/html": [
       "<div>\n",
       "<style scoped>\n",
       "    .dataframe tbody tr th:only-of-type {\n",
       "        vertical-align: middle;\n",
       "    }\n",
       "\n",
       "    .dataframe tbody tr th {\n",
       "        vertical-align: top;\n",
       "    }\n",
       "\n",
       "    .dataframe thead th {\n",
       "        text-align: right;\n",
       "    }\n",
       "</style>\n",
       "<table border=\"1\" class=\"dataframe\">\n",
       "  <thead>\n",
       "    <tr style=\"text-align: right;\">\n",
       "      <th></th>\n",
       "      <th>pair_launcher_id</th>\n",
       "      <th>operation</th>\n",
       "      <th>height</th>\n",
       "      <th>coin_id</th>\n",
       "      <th>timestamp</th>\n",
       "      <th>state_change.xch</th>\n",
       "      <th>state_change.token</th>\n",
       "      <th>state_change.liquidity</th>\n",
       "      <th>time</th>\n",
       "    </tr>\n",
       "  </thead>\n",
       "  <tbody>\n",
       "    <tr>\n",
       "      <th>0</th>\n",
       "      <td>9124c0198ed1109fdc3b41d193b67fe06135b82a3f0012...</td>\n",
       "      <td>SWAP</td>\n",
       "      <td>3771037</td>\n",
       "      <td>da48e215f3b008bf5da4f30272da1a1dbcd0b660aa6002...</td>\n",
       "      <td>1686136123</td>\n",
       "      <td>200000000000</td>\n",
       "      <td>-2025017</td>\n",
       "      <td>0</td>\n",
       "      <td>2023-06-07 11:08:43</td>\n",
       "    </tr>\n",
       "    <tr>\n",
       "      <th>1</th>\n",
       "      <td>9124c0198ed1109fdc3b41d193b67fe06135b82a3f0012...</td>\n",
       "      <td>SWAP</td>\n",
       "      <td>3767064</td>\n",
       "      <td>3e9b740737c6a183dc54e2573e097dc3d210c072dfc4a2...</td>\n",
       "      <td>1686062718</td>\n",
       "      <td>-154143842754</td>\n",
       "      <td>1600000</td>\n",
       "      <td>0</td>\n",
       "      <td>2023-06-06 14:45:18</td>\n",
       "    </tr>\n",
       "    <tr>\n",
       "      <th>2</th>\n",
       "      <td>9124c0198ed1109fdc3b41d193b67fe06135b82a3f0012...</td>\n",
       "      <td>SWAP</td>\n",
       "      <td>3766871</td>\n",
       "      <td>4c6a176a3ba3c5a8296e182c11941b04928142a8d7c041...</td>\n",
       "      <td>1686059463</td>\n",
       "      <td>80000000000</td>\n",
       "      <td>-803282</td>\n",
       "      <td>0</td>\n",
       "      <td>2023-06-06 13:51:03</td>\n",
       "    </tr>\n",
       "    <tr>\n",
       "      <th>3</th>\n",
       "      <td>9124c0198ed1109fdc3b41d193b67fe06135b82a3f0012...</td>\n",
       "      <td>SWAP</td>\n",
       "      <td>3765260</td>\n",
       "      <td>f0d019a761686c57d803d3c1b7b07a46f8c80840ce47e8...</td>\n",
       "      <td>1686029849</td>\n",
       "      <td>-73552346166</td>\n",
       "      <td>750000</td>\n",
       "      <td>0</td>\n",
       "      <td>2023-06-06 05:37:29</td>\n",
       "    </tr>\n",
       "    <tr>\n",
       "      <th>4</th>\n",
       "      <td>9124c0198ed1109fdc3b41d193b67fe06135b82a3f0012...</td>\n",
       "      <td>SWAP</td>\n",
       "      <td>3752972</td>\n",
       "      <td>c2088b276a963ea6f4a794ec51317e03c298403c6aa86c...</td>\n",
       "      <td>1685801247</td>\n",
       "      <td>19999953832</td>\n",
       "      <td>-198374</td>\n",
       "      <td>0</td>\n",
       "      <td>2023-06-03 14:07:27</td>\n",
       "    </tr>\n",
       "    <tr>\n",
       "      <th>5</th>\n",
       "      <td>9124c0198ed1109fdc3b41d193b67fe06135b82a3f0012...</td>\n",
       "      <td>SWAP</td>\n",
       "      <td>3749305</td>\n",
       "      <td>64fced5e37f013f3370baea45a060526cde8e3f1a5eeca...</td>\n",
       "      <td>1685732253</td>\n",
       "      <td>4999995409</td>\n",
       "      <td>-49905</td>\n",
       "      <td>0</td>\n",
       "      <td>2023-06-02 18:57:33</td>\n",
       "    </tr>\n",
       "    <tr>\n",
       "      <th>6</th>\n",
       "      <td>9124c0198ed1109fdc3b41d193b67fe06135b82a3f0012...</td>\n",
       "      <td>SWAP</td>\n",
       "      <td>3745410</td>\n",
       "      <td>be659ff0c6a52a45f7e5d7f9942f8e81ab702ae052c876...</td>\n",
       "      <td>1685659341</td>\n",
       "      <td>99999932393</td>\n",
       "      <td>-1025250</td>\n",
       "      <td>0</td>\n",
       "      <td>2023-06-01 22:42:21</td>\n",
       "    </tr>\n",
       "    <tr>\n",
       "      <th>7</th>\n",
       "      <td>9124c0198ed1109fdc3b41d193b67fe06135b82a3f0012...</td>\n",
       "      <td>SWAP</td>\n",
       "      <td>3742651</td>\n",
       "      <td>9814ca86cc7ac763a9d9de66c8a967146b3dc27c52f6e5...</td>\n",
       "      <td>1685608538</td>\n",
       "      <td>-96115465142</td>\n",
       "      <td>1000000</td>\n",
       "      <td>0</td>\n",
       "      <td>2023-06-01 08:35:38</td>\n",
       "    </tr>\n",
       "  </tbody>\n",
       "</table>\n",
       "</div>"
      ],
      "text/plain": [
       "                                    pair_launcher_id operation   height  \\\n",
       "0  9124c0198ed1109fdc3b41d193b67fe06135b82a3f0012...      SWAP  3771037   \n",
       "1  9124c0198ed1109fdc3b41d193b67fe06135b82a3f0012...      SWAP  3767064   \n",
       "2  9124c0198ed1109fdc3b41d193b67fe06135b82a3f0012...      SWAP  3766871   \n",
       "3  9124c0198ed1109fdc3b41d193b67fe06135b82a3f0012...      SWAP  3765260   \n",
       "4  9124c0198ed1109fdc3b41d193b67fe06135b82a3f0012...      SWAP  3752972   \n",
       "5  9124c0198ed1109fdc3b41d193b67fe06135b82a3f0012...      SWAP  3749305   \n",
       "6  9124c0198ed1109fdc3b41d193b67fe06135b82a3f0012...      SWAP  3745410   \n",
       "7  9124c0198ed1109fdc3b41d193b67fe06135b82a3f0012...      SWAP  3742651   \n",
       "\n",
       "                                             coin_id   timestamp  \\\n",
       "0  da48e215f3b008bf5da4f30272da1a1dbcd0b660aa6002...  1686136123   \n",
       "1  3e9b740737c6a183dc54e2573e097dc3d210c072dfc4a2...  1686062718   \n",
       "2  4c6a176a3ba3c5a8296e182c11941b04928142a8d7c041...  1686059463   \n",
       "3  f0d019a761686c57d803d3c1b7b07a46f8c80840ce47e8...  1686029849   \n",
       "4  c2088b276a963ea6f4a794ec51317e03c298403c6aa86c...  1685801247   \n",
       "5  64fced5e37f013f3370baea45a060526cde8e3f1a5eeca...  1685732253   \n",
       "6  be659ff0c6a52a45f7e5d7f9942f8e81ab702ae052c876...  1685659341   \n",
       "7  9814ca86cc7ac763a9d9de66c8a967146b3dc27c52f6e5...  1685608538   \n",
       "\n",
       "   state_change.xch  state_change.token  state_change.liquidity  \\\n",
       "0      200000000000            -2025017                       0   \n",
       "1     -154143842754             1600000                       0   \n",
       "2       80000000000             -803282                       0   \n",
       "3      -73552346166              750000                       0   \n",
       "4       19999953832             -198374                       0   \n",
       "5        4999995409              -49905                       0   \n",
       "6       99999932393            -1025250                       0   \n",
       "7      -96115465142             1000000                       0   \n",
       "\n",
       "                 time  \n",
       "0 2023-06-07 11:08:43  \n",
       "1 2023-06-06 14:45:18  \n",
       "2 2023-06-06 13:51:03  \n",
       "3 2023-06-06 05:37:29  \n",
       "4 2023-06-03 14:07:27  \n",
       "5 2023-06-02 18:57:33  \n",
       "6 2023-06-01 22:42:21  \n",
       "7 2023-06-01 08:35:38  "
      ]
     },
     "execution_count": 39,
     "metadata": {},
     "output_type": "execute_result"
    }
   ],
   "source": [
    "get_transactions('STDG', op='SWAP')"
   ]
  },
  {
   "cell_type": "code",
   "execution_count": null,
   "id": "94d291b7",
   "metadata": {},
   "outputs": [],
   "source": []
  }
 ],
 "metadata": {
  "kernelspec": {
   "display_name": "Python 3 (ipykernel)",
   "language": "python",
   "name": "python3"
  },
  "language_info": {
   "codemirror_mode": {
    "name": "ipython",
    "version": 3
   },
   "file_extension": ".py",
   "mimetype": "text/x-python",
   "name": "python",
   "nbconvert_exporter": "python",
   "pygments_lexer": "ipython3",
   "version": "3.10.6"
  }
 },
 "nbformat": 4,
 "nbformat_minor": 5
}
