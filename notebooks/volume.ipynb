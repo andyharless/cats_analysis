{
 "cells": [
  {
   "cell_type": "code",
   "execution_count": 1,
   "id": "406614a2",
   "metadata": {},
   "outputs": [],
   "source": [
    "import sys\n",
    "sys.path.append('..')"
   ]
  },
  {
   "cell_type": "code",
   "execution_count": 2,
   "id": "53aece13",
   "metadata": {},
   "outputs": [
    {
     "name": "stdout",
     "output_type": "stream",
     "text": [
      "Loading modules\n"
     ]
    }
   ],
   "source": [
    "from modules.tibet_data import Pairs, Pair\n",
    "import pandas as pd"
   ]
  },
  {
   "cell_type": "code",
   "execution_count": 3,
   "id": "1e5f57e0",
   "metadata": {},
   "outputs": [
    {
     "data": {
      "text/plain": [
       "0.149999886116"
      ]
     },
     "execution_count": 3,
     "metadata": {},
     "output_type": "execute_result"
    }
   ],
   "source": [
    "pairs = Pairs()\n",
    "stdg = Pair(pairs, 'STDG')\n",
    "stdg.get_volume()"
   ]
  },
  {
   "cell_type": "code",
   "execution_count": 4,
   "id": "1a7c8b12",
   "metadata": {},
   "outputs": [
    {
     "data": {
      "text/plain": [
       "5.058230111136"
      ]
     },
     "execution_count": 4,
     "metadata": {},
     "output_type": "execute_result"
    }
   ],
   "source": [
    "stdg.get_xch_reserve()"
   ]
  },
  {
   "cell_type": "code",
   "execution_count": 5,
   "id": "1a9250e4",
   "metadata": {},
   "outputs": [
    {
     "data": {
      "text/plain": [
       "0.00543008349111318"
      ]
     },
     "execution_count": 5,
     "metadata": {},
     "output_type": "execute_result"
    }
   ],
   "source": [
    "stdg.get_annualized_yield()"
   ]
  },
  {
   "cell_type": "code",
   "execution_count": 6,
   "id": "822345ef",
   "metadata": {},
   "outputs": [
    {
     "data": {
      "text/plain": [
       "0.05058230111136"
      ]
     },
     "execution_count": 6,
     "metadata": {},
     "output_type": "execute_result"
    }
   ],
   "source": [
    "stdg.get_price_impact_threshold()"
   ]
  },
  {
   "cell_type": "code",
   "execution_count": 7,
   "id": "02bab6f1",
   "metadata": {},
   "outputs": [
    {
     "data": {
      "text/plain": [
       "3809.5267018180693"
      ]
     },
     "execution_count": 7,
     "metadata": {},
     "output_type": "execute_result"
    }
   ],
   "source": [
    "stdg.get_recovery_period()"
   ]
  },
  {
   "cell_type": "code",
   "execution_count": 8,
   "id": "19a20cfd",
   "metadata": {},
   "outputs": [
    {
     "data": {
      "text/plain": [
       "46.676125199628"
      ]
     },
     "execution_count": 8,
     "metadata": {},
     "output_type": "execute_result"
    }
   ],
   "source": [
    "usds = Pair(pairs, 'USDS')\n",
    "usds.get_volume()"
   ]
  },
  {
   "cell_type": "code",
   "execution_count": 9,
   "id": "7f596453",
   "metadata": {},
   "outputs": [
    {
     "data": {
      "text/plain": [
       "12.242416631300095"
      ]
     },
     "execution_count": 9,
     "metadata": {},
     "output_type": "execute_result"
    }
   ],
   "source": [
    "usds.get_recovery_period()"
   ]
  },
  {
   "cell_type": "code",
   "execution_count": 10,
   "id": "3e7d5aba",
   "metadata": {},
   "outputs": [
    {
     "data": {
      "text/plain": [
       "505.65109518938624"
      ]
     },
     "execution_count": 10,
     "metadata": {},
     "output_type": "execute_result"
    }
   ],
   "source": [
    "incl4 = Pair(pairs, 'INCL4')\n",
    "incl4.get_recovery_period()"
   ]
  },
  {
   "cell_type": "code",
   "execution_count": 11,
   "id": "40d05fd8",
   "metadata": {},
   "outputs": [
    {
     "data": {
      "text/plain": [
       "50.565109518938634"
      ]
     },
     "execution_count": 11,
     "metadata": {},
     "output_type": "execute_result"
    }
   ],
   "source": [
    "incl4.get_recovery_period(0.1)"
   ]
  },
  {
   "cell_type": "code",
   "execution_count": 12,
   "id": "a4525aee",
   "metadata": {},
   "outputs": [
    {
     "data": {
      "text/plain": [
       "(0.023463526829615722, 8.896666948034)"
      ]
     },
     "execution_count": 12,
     "metadata": {},
     "output_type": "execute_result"
    }
   ],
   "source": [
    "incl4.get_annualized_yield(), incl4.get_xch_reserve()"
   ]
  },
  {
   "cell_type": "code",
   "execution_count": 13,
   "id": "414c6a60",
   "metadata": {},
   "outputs": [
    {
     "data": {
      "text/plain": [
       "1.130084710317"
      ]
     },
     "execution_count": 13,
     "metadata": {},
     "output_type": "execute_result"
    }
   ],
   "source": [
    "incl4.get_volume()"
   ]
  },
  {
   "cell_type": "code",
   "execution_count": 14,
   "id": "866025f8",
   "metadata": {},
   "outputs": [
    {
     "data": {
      "text/html": [
       "<div>\n",
       "<style scoped>\n",
       "    .dataframe tbody tr th:only-of-type {\n",
       "        vertical-align: middle;\n",
       "    }\n",
       "\n",
       "    .dataframe tbody tr th {\n",
       "        vertical-align: top;\n",
       "    }\n",
       "\n",
       "    .dataframe thead th {\n",
       "        text-align: right;\n",
       "    }\n",
       "</style>\n",
       "<table border=\"1\" class=\"dataframe\">\n",
       "  <thead>\n",
       "    <tr style=\"text-align: right;\">\n",
       "      <th></th>\n",
       "      <th>pair_launcher_id</th>\n",
       "      <th>operation</th>\n",
       "      <th>height</th>\n",
       "      <th>coin_id</th>\n",
       "      <th>timestamp</th>\n",
       "      <th>state_change.xch</th>\n",
       "      <th>state_change.token</th>\n",
       "      <th>state_change.liquidity</th>\n",
       "      <th>time</th>\n",
       "    </tr>\n",
       "  </thead>\n",
       "  <tbody>\n",
       "    <tr>\n",
       "      <th>0</th>\n",
       "      <td>9124c0198ed1109fdc3b41d193b67fe06135b82a3f0012...</td>\n",
       "      <td>SWAP</td>\n",
       "      <td>3848004</td>\n",
       "      <td>b5f6b53c1a50f185c1a91f2b9cea19f5f8994428319f9e...</td>\n",
       "      <td>1687574812</td>\n",
       "      <td>49999967763</td>\n",
       "      <td>-388758</td>\n",
       "      <td>0</td>\n",
       "      <td>2023-06-24 02:46:52</td>\n",
       "    </tr>\n",
       "    <tr>\n",
       "      <th>1</th>\n",
       "      <td>9124c0198ed1109fdc3b41d193b67fe06135b82a3f0012...</td>\n",
       "      <td>SWAP</td>\n",
       "      <td>3826923</td>\n",
       "      <td>2f5c1d665e3ce92e261aa792f6f59638c9e39ffe26808b...</td>\n",
       "      <td>1687180418</td>\n",
       "      <td>99999918353</td>\n",
       "      <td>-801222</td>\n",
       "      <td>0</td>\n",
       "      <td>2023-06-19 13:13:38</td>\n",
       "    </tr>\n",
       "  </tbody>\n",
       "</table>\n",
       "</div>"
      ],
      "text/plain": [
       "                                    pair_launcher_id operation   height  \\\n",
       "0  9124c0198ed1109fdc3b41d193b67fe06135b82a3f0012...      SWAP  3848004   \n",
       "1  9124c0198ed1109fdc3b41d193b67fe06135b82a3f0012...      SWAP  3826923   \n",
       "\n",
       "                                             coin_id   timestamp  \\\n",
       "0  b5f6b53c1a50f185c1a91f2b9cea19f5f8994428319f9e...  1687574812   \n",
       "1  2f5c1d665e3ce92e261aa792f6f59638c9e39ffe26808b...  1687180418   \n",
       "\n",
       "   state_change.xch  state_change.token  state_change.liquidity  \\\n",
       "0       49999967763             -388758                       0   \n",
       "1       99999918353             -801222                       0   \n",
       "\n",
       "                 time  \n",
       "0 2023-06-24 02:46:52  \n",
       "1 2023-06-19 13:13:38  "
      ]
     },
     "execution_count": 14,
     "metadata": {},
     "output_type": "execute_result"
    }
   ],
   "source": [
    "stdg.get_transactions(op='SWAP')"
   ]
  },
  {
   "cell_type": "code",
   "execution_count": 15,
   "id": "ec09fcb8",
   "metadata": {},
   "outputs": [
    {
     "data": {
      "text/html": [
       "<div>\n",
       "<style scoped>\n",
       "    .dataframe tbody tr th:only-of-type {\n",
       "        vertical-align: middle;\n",
       "    }\n",
       "\n",
       "    .dataframe tbody tr th {\n",
       "        vertical-align: top;\n",
       "    }\n",
       "\n",
       "    .dataframe thead th {\n",
       "        text-align: right;\n",
       "    }\n",
       "</style>\n",
       "<table border=\"1\" class=\"dataframe\">\n",
       "  <thead>\n",
       "    <tr style=\"text-align: right;\">\n",
       "      <th></th>\n",
       "      <th>launcher_id</th>\n",
       "      <th>name</th>\n",
       "      <th>short_name</th>\n",
       "      <th>image_url</th>\n",
       "      <th>asset_id</th>\n",
       "      <th>current_coin_id</th>\n",
       "      <th>xch_reserve</th>\n",
       "      <th>token_reserve</th>\n",
       "      <th>liquidity</th>\n",
       "      <th>trade_volume</th>\n",
       "    </tr>\n",
       "  </thead>\n",
       "  <tbody>\n",
       "    <tr>\n",
       "      <th>0</th>\n",
       "      <td>6dc7a439046ae61bf51e3af7e960ab691dbe6d58ddb289...</td>\n",
       "      <td>DeltaXtrade</td>\n",
       "      <td>DXT</td>\n",
       "      <td>https://nftstorage.link/ipfs/bafybeihklkvffcwg...</td>\n",
       "      <td>a7c8135b134e1a477563480febefd2e2091afe15d24ab5...</td>\n",
       "      <td>4198ee8c67bc05ced6047cdc67c0ff2998bdfa60738f95...</td>\n",
       "      <td>146980155242317</td>\n",
       "      <td>153577</td>\n",
       "      <td>179360</td>\n",
       "      <td>11298814441774</td>\n",
       "    </tr>\n",
       "    <tr>\n",
       "      <th>1</th>\n",
       "      <td>636a5be72b9974d28393fbff1249e28dcdfb86b0bb9245...</td>\n",
       "      <td>Big Brain Token</td>\n",
       "      <td>BBT</td>\n",
       "      <td>https://bigbrain.at/bigbraintoken.png</td>\n",
       "      <td>9e04d998a90bca05bdbc301548c83104d79256f1b00bb2...</td>\n",
       "      <td>637ad0cac3cf7d37d608a844c32d472b6a6121d54a2b99...</td>\n",
       "      <td>123588487755462</td>\n",
       "      <td>128310871895</td>\n",
       "      <td>3909913029823</td>\n",
       "      <td>364419845824833</td>\n",
       "    </tr>\n",
       "    <tr>\n",
       "      <th>2</th>\n",
       "      <td>b62577aed2b09182f3db8b21049d687b597f1526fb8826...</td>\n",
       "      <td>PepeCoin</td>\n",
       "      <td>PEPE</td>\n",
       "      <td>https://nftstorage.link/ipfs/bafybeibtolqdipv4...</td>\n",
       "      <td>ec9d874e152e888231024c72e391fc484e8b6a1cf74443...</td>\n",
       "      <td>fc07c1a77f592b7ce393f6ad20c8c93827084954d0bceb...</td>\n",
       "      <td>121709956681700</td>\n",
       "      <td>42915157897</td>\n",
       "      <td>35619711323</td>\n",
       "      <td>443589963328402</td>\n",
       "    </tr>\n",
       "    <tr>\n",
       "      <th>3</th>\n",
       "      <td>c0952d9c3761302a5545f4c04615a855396b1570be5c61...</td>\n",
       "      <td>dexie bucks</td>\n",
       "      <td>DBX</td>\n",
       "      <td>https://nftstorage.link/ipfs/bafybeidiupubzjzn...</td>\n",
       "      <td>db1a9020d48d9d4ad22631b66ab4b9ebd3637ef7758ad3...</td>\n",
       "      <td>fc0a9bea81a5e470a97dd6469121e77a61823b3160d081...</td>\n",
       "      <td>108251133787921</td>\n",
       "      <td>40539782</td>\n",
       "      <td>32720456</td>\n",
       "      <td>159209551975960</td>\n",
       "    </tr>\n",
       "    <tr>\n",
       "      <th>4</th>\n",
       "      <td>b7772fbcb3a297555f2dd75368ee85069c50d294902b40...</td>\n",
       "      <td>Stably USD</td>\n",
       "      <td>USDS</td>\n",
       "      <td>https://nftstorage.link/ipfs/bafybeibsolxdn3yn...</td>\n",
       "      <td>6d95dae356e32a71db5ddcb42224754a02524c615c5fc3...</td>\n",
       "      <td>8e6b51b91cd035b363865ec2bc32eaabeb5062a3d9ecd9...</td>\n",
       "      <td>106429103295729</td>\n",
       "      <td>4487887</td>\n",
       "      <td>4154495</td>\n",
       "      <td>668072455962769</td>\n",
       "    </tr>\n",
       "  </tbody>\n",
       "</table>\n",
       "</div>"
      ],
      "text/plain": [
       "                                         launcher_id             name  \\\n",
       "0  6dc7a439046ae61bf51e3af7e960ab691dbe6d58ddb289...      DeltaXtrade   \n",
       "1  636a5be72b9974d28393fbff1249e28dcdfb86b0bb9245...  Big Brain Token   \n",
       "2  b62577aed2b09182f3db8b21049d687b597f1526fb8826...         PepeCoin   \n",
       "3  c0952d9c3761302a5545f4c04615a855396b1570be5c61...      dexie bucks   \n",
       "4  b7772fbcb3a297555f2dd75368ee85069c50d294902b40...       Stably USD   \n",
       "\n",
       "  short_name                                          image_url  \\\n",
       "0        DXT  https://nftstorage.link/ipfs/bafybeihklkvffcwg...   \n",
       "1        BBT              https://bigbrain.at/bigbraintoken.png   \n",
       "2       PEPE  https://nftstorage.link/ipfs/bafybeibtolqdipv4...   \n",
       "3        DBX  https://nftstorage.link/ipfs/bafybeidiupubzjzn...   \n",
       "4       USDS  https://nftstorage.link/ipfs/bafybeibsolxdn3yn...   \n",
       "\n",
       "                                            asset_id  \\\n",
       "0  a7c8135b134e1a477563480febefd2e2091afe15d24ab5...   \n",
       "1  9e04d998a90bca05bdbc301548c83104d79256f1b00bb2...   \n",
       "2  ec9d874e152e888231024c72e391fc484e8b6a1cf74443...   \n",
       "3  db1a9020d48d9d4ad22631b66ab4b9ebd3637ef7758ad3...   \n",
       "4  6d95dae356e32a71db5ddcb42224754a02524c615c5fc3...   \n",
       "\n",
       "                                     current_coin_id      xch_reserve  \\\n",
       "0  4198ee8c67bc05ced6047cdc67c0ff2998bdfa60738f95...  146980155242317   \n",
       "1  637ad0cac3cf7d37d608a844c32d472b6a6121d54a2b99...  123588487755462   \n",
       "2  fc07c1a77f592b7ce393f6ad20c8c93827084954d0bceb...  121709956681700   \n",
       "3  fc0a9bea81a5e470a97dd6469121e77a61823b3160d081...  108251133787921   \n",
       "4  8e6b51b91cd035b363865ec2bc32eaabeb5062a3d9ecd9...  106429103295729   \n",
       "\n",
       "   token_reserve      liquidity     trade_volume  \n",
       "0         153577         179360   11298814441774  \n",
       "1   128310871895  3909913029823  364419845824833  \n",
       "2    42915157897    35619711323  443589963328402  \n",
       "3       40539782       32720456  159209551975960  \n",
       "4        4487887        4154495  668072455962769  "
      ]
     },
     "execution_count": 15,
     "metadata": {},
     "output_type": "execute_result"
    }
   ],
   "source": [
    "pairs.data.head()"
   ]
  },
  {
   "cell_type": "code",
   "execution_count": 16,
   "id": "af2f0d33",
   "metadata": {},
   "outputs": [
    {
     "data": {
      "text/plain": [
       "20.37511674891598"
      ]
     },
     "execution_count": 16,
     "metadata": {},
     "output_type": "execute_result"
    }
   ],
   "source": [
    "pepe = Pair(pairs, 'PEPE')\n",
    "pepe.get_recovery_period()"
   ]
  },
  {
   "cell_type": "code",
   "execution_count": 17,
   "id": "dccecd89",
   "metadata": {},
   "outputs": [
    {
     "data": {
      "text/plain": [
       "0.042962269402778475"
      ]
     },
     "execution_count": 17,
     "metadata": {},
     "output_type": "execute_result"
    }
   ],
   "source": [
    "pepe.get_annualized_yield()"
   ]
  },
  {
   "cell_type": "code",
   "execution_count": 18,
   "id": "6398cfbc",
   "metadata": {},
   "outputs": [
    {
     "data": {
      "text/plain": [
       "2.836059859637804e-06"
      ]
     },
     "execution_count": 18,
     "metadata": {},
     "output_type": "execute_result"
    }
   ],
   "source": [
    "pepe.get_neutral_price()"
   ]
  },
  {
   "cell_type": "code",
   "execution_count": 19,
   "id": "7375e744-17bc-42f8-974f-649311957fac",
   "metadata": {},
   "outputs": [
    {
     "data": {
      "text/plain": [
       "352601.86649505736"
      ]
     },
     "execution_count": 19,
     "metadata": {},
     "output_type": "execute_result"
    }
   ],
   "source": [
    "pepe.get_inverse_price()"
   ]
  },
  {
   "cell_type": "code",
   "execution_count": 21,
   "id": "46f89fb9-6f1e-4827-b117-32cd7850ff33",
   "metadata": {},
   "outputs": [
    {
     "data": {
      "text/plain": [
       "6.833854186971509e-06"
      ]
     },
     "execution_count": 21,
     "metadata": {},
     "output_type": "execute_result"
    }
   ],
   "source": [
    "pepe.get_total_xch_value_of_liquidity_units()"
   ]
  },
  {
   "cell_type": "code",
   "execution_count": 22,
   "id": "0bc20f1b-8c85-4017-b053-27a433527154",
   "metadata": {},
   "outputs": [
    {
     "data": {
      "text/plain": [
       "8.34885815553541"
      ]
     },
     "execution_count": 22,
     "metadata": {},
     "output_type": "execute_result"
    }
   ],
   "source": [
    "pepe.get_total_xch_value_of_liquidity_units(1221691)"
   ]
  },
  {
   "cell_type": "code",
   "execution_count": null,
   "id": "082fab07-0185-4f11-a724-374bb749e7e2",
   "metadata": {},
   "outputs": [],
   "source": []
  }
 ],
 "metadata": {
  "kernelspec": {
   "display_name": "Python 3 (ipykernel)",
   "language": "python",
   "name": "python3"
  },
  "language_info": {
   "codemirror_mode": {
    "name": "ipython",
    "version": 3
   },
   "file_extension": ".py",
   "mimetype": "text/x-python",
   "name": "python",
   "nbconvert_exporter": "python",
   "pygments_lexer": "ipython3",
   "version": "3.10.6"
  }
 },
 "nbformat": 4,
 "nbformat_minor": 5
}
