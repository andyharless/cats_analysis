{
 "cells": [
  {
   "cell_type": "code",
   "execution_count": 3,
   "id": "406614a2",
   "metadata": {},
   "outputs": [],
   "source": [
    "import sys\n",
    "sys.path.append('..')"
   ]
  },
  {
   "cell_type": "code",
   "execution_count": 5,
   "id": "53aece13",
   "metadata": {},
   "outputs": [],
   "source": [
    "from modules.tibet_data import Pairs, Pair\n",
    "import pandas as pd"
   ]
  },
  {
   "cell_type": "code",
   "execution_count": 6,
   "id": "1e5f57e0",
   "metadata": {},
   "outputs": [
    {
     "data": {
      "text/plain": [
       "0.913008375118"
      ]
     },
     "execution_count": 6,
     "metadata": {},
     "output_type": "execute_result"
    }
   ],
   "source": [
    "pairs = Pairs()\n",
    "stdg = Pair(pairs, 'STDG')\n",
    "stdg.get_volume()"
   ]
  },
  {
   "cell_type": "code",
   "execution_count": 7,
   "id": "1a7c8b12",
   "metadata": {},
   "outputs": [
    {
     "data": {
      "text/plain": [
       "5.008230143373"
      ]
     },
     "execution_count": 7,
     "metadata": {},
     "output_type": "execute_result"
    }
   ],
   "source": [
    "stdg.get_xch_reserve()"
   ]
  },
  {
   "cell_type": "code",
   "execution_count": 8,
   "id": "1a9250e4",
   "metadata": {},
   "outputs": [
    {
     "data": {
      "text/plain": [
       "0.03384226193180928"
      ]
     },
     "execution_count": 8,
     "metadata": {},
     "output_type": "execute_result"
    }
   ],
   "source": [
    "stdg.get_annualized_yield()"
   ]
  },
  {
   "cell_type": "code",
   "execution_count": 9,
   "id": "822345ef",
   "metadata": {},
   "outputs": [
    {
     "data": {
      "text/plain": [
       "0.05008230143373"
      ]
     },
     "execution_count": 9,
     "metadata": {},
     "output_type": "execute_result"
    }
   ],
   "source": [
    "stdg.get_price_impact_threshold()"
   ]
  },
  {
   "cell_type": "code",
   "execution_count": 10,
   "id": "02bab6f1",
   "metadata": {},
   "outputs": [
    {
     "data": {
      "text/plain": [
       "625.8744026906853"
      ]
     },
     "execution_count": 10,
     "metadata": {},
     "output_type": "execute_result"
    }
   ],
   "source": [
    "stdg.get_recovery_period()"
   ]
  },
  {
   "cell_type": "code",
   "execution_count": 11,
   "id": "19a20cfd",
   "metadata": {},
   "outputs": [
    {
     "data": {
      "text/plain": [
       "66.81420980006"
      ]
     },
     "execution_count": 11,
     "metadata": {},
     "output_type": "execute_result"
    }
   ],
   "source": [
    "usds = Pair(pairs, 'USDS')\n",
    "usds.get_volume()"
   ]
  },
  {
   "cell_type": "code",
   "execution_count": 12,
   "id": "7f596453",
   "metadata": {},
   "outputs": [
    {
     "data": {
      "text/plain": [
       "8.552500630308408"
      ]
     },
     "execution_count": 12,
     "metadata": {},
     "output_type": "execute_result"
    }
   ],
   "source": [
    "usds.get_recovery_period()"
   ]
  },
  {
   "cell_type": "code",
   "execution_count": 13,
   "id": "3e7d5aba",
   "metadata": {},
   "outputs": [
    {
     "data": {
      "text/plain": [
       "1559.1798603350896"
      ]
     },
     "execution_count": 13,
     "metadata": {},
     "output_type": "execute_result"
    }
   ],
   "source": [
    "incl4 = Pair(pairs, 'INCL4')\n",
    "incl4.get_recovery_period()"
   ]
  },
  {
   "cell_type": "code",
   "execution_count": 14,
   "id": "40d05fd8",
   "metadata": {},
   "outputs": [
    {
     "data": {
      "text/plain": [
       "155.91798603350898"
      ]
     },
     "execution_count": 14,
     "metadata": {},
     "output_type": "execute_result"
    }
   ],
   "source": [
    "incl4.get_recovery_period(0.1)"
   ]
  },
  {
   "cell_type": "code",
   "execution_count": 15,
   "id": "a4525aee",
   "metadata": {},
   "outputs": [
    {
     "data": {
      "text/plain": [
       "(0.011048238945188915, 6.090813496981)"
      ]
     },
     "execution_count": 15,
     "metadata": {},
     "output_type": "execute_result"
    }
   ],
   "source": [
    "incl4.get_annualized_yield(), incl4.get_xch_reserve()"
   ]
  },
  {
   "cell_type": "code",
   "execution_count": 16,
   "id": "414c6a60",
   "metadata": {},
   "outputs": [
    {
     "data": {
      "text/plain": [
       "0.366493042891"
      ]
     },
     "execution_count": 16,
     "metadata": {},
     "output_type": "execute_result"
    }
   ],
   "source": [
    "incl4.get_volume()"
   ]
  },
  {
   "cell_type": "code",
   "execution_count": 17,
   "id": "866025f8",
   "metadata": {},
   "outputs": [
    {
     "data": {
      "text/html": [
       "<div>\n",
       "<style scoped>\n",
       "    .dataframe tbody tr th:only-of-type {\n",
       "        vertical-align: middle;\n",
       "    }\n",
       "\n",
       "    .dataframe tbody tr th {\n",
       "        vertical-align: top;\n",
       "    }\n",
       "\n",
       "    .dataframe thead th {\n",
       "        text-align: right;\n",
       "    }\n",
       "</style>\n",
       "<table border=\"1\" class=\"dataframe\">\n",
       "  <thead>\n",
       "    <tr style=\"text-align: right;\">\n",
       "      <th></th>\n",
       "      <th>pair_launcher_id</th>\n",
       "      <th>operation</th>\n",
       "      <th>height</th>\n",
       "      <th>coin_id</th>\n",
       "      <th>timestamp</th>\n",
       "      <th>state_change.xch</th>\n",
       "      <th>state_change.token</th>\n",
       "      <th>state_change.liquidity</th>\n",
       "      <th>time</th>\n",
       "    </tr>\n",
       "  </thead>\n",
       "  <tbody>\n",
       "    <tr>\n",
       "      <th>0</th>\n",
       "      <td>9124c0198ed1109fdc3b41d193b67fe06135b82a3f0012...</td>\n",
       "      <td>SWAP</td>\n",
       "      <td>3826923</td>\n",
       "      <td>2f5c1d665e3ce92e261aa792f6f59638c9e39ffe26808b...</td>\n",
       "      <td>1687180418</td>\n",
       "      <td>99999918353</td>\n",
       "      <td>-801222</td>\n",
       "      <td>0</td>\n",
       "      <td>2023-06-19 13:13:38</td>\n",
       "    </tr>\n",
       "    <tr>\n",
       "      <th>1</th>\n",
       "      <td>9124c0198ed1109fdc3b41d193b67fe06135b82a3f0012...</td>\n",
       "      <td>SWAP</td>\n",
       "      <td>3807800</td>\n",
       "      <td>fa300786ea9fc3a1afe754a0d89168ae51bb18f2616901...</td>\n",
       "      <td>1686825320</td>\n",
       "      <td>99999984827</td>\n",
       "      <td>-834433</td>\n",
       "      <td>0</td>\n",
       "      <td>2023-06-15 10:35:20</td>\n",
       "    </tr>\n",
       "    <tr>\n",
       "      <th>2</th>\n",
       "      <td>9124c0198ed1109fdc3b41d193b67fe06135b82a3f0012...</td>\n",
       "      <td>SWAP</td>\n",
       "      <td>3807763</td>\n",
       "      <td>dcbbd83897804fef9fa4a35e8cc4419199a8bbb212fa96...</td>\n",
       "      <td>1686824726</td>\n",
       "      <td>399999987005</td>\n",
       "      <td>-3715782</td>\n",
       "      <td>0</td>\n",
       "      <td>2023-06-15 10:25:26</td>\n",
       "    </tr>\n",
       "    <tr>\n",
       "      <th>3</th>\n",
       "      <td>9124c0198ed1109fdc3b41d193b67fe06135b82a3f0012...</td>\n",
       "      <td>SWAP</td>\n",
       "      <td>3806421</td>\n",
       "      <td>50e503b5f1e0fc9474c53b40425756a16de641a180d79b...</td>\n",
       "      <td>1686800880</td>\n",
       "      <td>-313008484933</td>\n",
       "      <td>3000000</td>\n",
       "      <td>0</td>\n",
       "      <td>2023-06-15 03:48:00</td>\n",
       "    </tr>\n",
       "  </tbody>\n",
       "</table>\n",
       "</div>"
      ],
      "text/plain": [
       "                                    pair_launcher_id operation   height  \\\n",
       "0  9124c0198ed1109fdc3b41d193b67fe06135b82a3f0012...      SWAP  3826923   \n",
       "1  9124c0198ed1109fdc3b41d193b67fe06135b82a3f0012...      SWAP  3807800   \n",
       "2  9124c0198ed1109fdc3b41d193b67fe06135b82a3f0012...      SWAP  3807763   \n",
       "3  9124c0198ed1109fdc3b41d193b67fe06135b82a3f0012...      SWAP  3806421   \n",
       "\n",
       "                                             coin_id   timestamp  \\\n",
       "0  2f5c1d665e3ce92e261aa792f6f59638c9e39ffe26808b...  1687180418   \n",
       "1  fa300786ea9fc3a1afe754a0d89168ae51bb18f2616901...  1686825320   \n",
       "2  dcbbd83897804fef9fa4a35e8cc4419199a8bbb212fa96...  1686824726   \n",
       "3  50e503b5f1e0fc9474c53b40425756a16de641a180d79b...  1686800880   \n",
       "\n",
       "   state_change.xch  state_change.token  state_change.liquidity  \\\n",
       "0       99999918353             -801222                       0   \n",
       "1       99999984827             -834433                       0   \n",
       "2      399999987005            -3715782                       0   \n",
       "3     -313008484933             3000000                       0   \n",
       "\n",
       "                 time  \n",
       "0 2023-06-19 13:13:38  \n",
       "1 2023-06-15 10:35:20  \n",
       "2 2023-06-15 10:25:26  \n",
       "3 2023-06-15 03:48:00  "
      ]
     },
     "execution_count": 17,
     "metadata": {},
     "output_type": "execute_result"
    }
   ],
   "source": [
    "stdg.get_transactions(op='SWAP')"
   ]
  },
  {
   "cell_type": "code",
   "execution_count": 18,
   "id": "ec09fcb8",
   "metadata": {},
   "outputs": [
    {
     "data": {
      "text/html": [
       "<div>\n",
       "<style scoped>\n",
       "    .dataframe tbody tr th:only-of-type {\n",
       "        vertical-align: middle;\n",
       "    }\n",
       "\n",
       "    .dataframe tbody tr th {\n",
       "        vertical-align: top;\n",
       "    }\n",
       "\n",
       "    .dataframe thead th {\n",
       "        text-align: right;\n",
       "    }\n",
       "</style>\n",
       "<table border=\"1\" class=\"dataframe\">\n",
       "  <thead>\n",
       "    <tr style=\"text-align: right;\">\n",
       "      <th></th>\n",
       "      <th>launcher_id</th>\n",
       "      <th>name</th>\n",
       "      <th>short_name</th>\n",
       "      <th>image_url</th>\n",
       "      <th>asset_id</th>\n",
       "      <th>current_coin_id</th>\n",
       "      <th>xch_reserve</th>\n",
       "      <th>token_reserve</th>\n",
       "      <th>liquidity</th>\n",
       "      <th>trade_volume</th>\n",
       "    </tr>\n",
       "  </thead>\n",
       "  <tbody>\n",
       "    <tr>\n",
       "      <th>0</th>\n",
       "      <td>b7772fbcb3a297555f2dd75368ee85069c50d294902b40...</td>\n",
       "      <td>Stably USD</td>\n",
       "      <td>USDS</td>\n",
       "      <td>https://nftstorage.link/ipfs/bafybeibsolxdn3yn...</td>\n",
       "      <td>6d95dae356e32a71db5ddcb42224754a02524c615c5fc3...</td>\n",
       "      <td>ff5d451b7a2e82d5b6e8cdda78bd1c2ea895f3a0f67104...</td>\n",
       "      <td>345327423033066</td>\n",
       "      <td>11124096</td>\n",
       "      <td>11840762</td>\n",
       "      <td>460220571489558</td>\n",
       "    </tr>\n",
       "    <tr>\n",
       "      <th>1</th>\n",
       "      <td>6dc7a439046ae61bf51e3af7e960ab691dbe6d58ddb289...</td>\n",
       "      <td>DeltaXtrade</td>\n",
       "      <td>DXT</td>\n",
       "      <td>https://nftstorage.link/ipfs/bafybeihklkvffcwg...</td>\n",
       "      <td>a7c8135b134e1a477563480febefd2e2091afe15d24ab5...</td>\n",
       "      <td>bfbd750d5b75b581854c65eae180b4464af087b29f6355...</td>\n",
       "      <td>134760515913201</td>\n",
       "      <td>144577</td>\n",
       "      <td>166645</td>\n",
       "      <td>9373639859586</td>\n",
       "    </tr>\n",
       "    <tr>\n",
       "      <th>2</th>\n",
       "      <td>636a5be72b9974d28393fbff1249e28dcdfb86b0bb9245...</td>\n",
       "      <td>Big Brain Token</td>\n",
       "      <td>BBT</td>\n",
       "      <td>https://bigbrain.at/bigbraintoken.png</td>\n",
       "      <td>9e04d998a90bca05bdbc301548c83104d79256f1b00bb2...</td>\n",
       "      <td>4b423f30b42c2d551e07d016fefea80d83f5db38311f43...</td>\n",
       "      <td>122248510273758</td>\n",
       "      <td>129707417184</td>\n",
       "      <td>3909913029823</td>\n",
       "      <td>363079823311399</td>\n",
       "    </tr>\n",
       "    <tr>\n",
       "      <th>3</th>\n",
       "      <td>b62577aed2b09182f3db8b21049d687b597f1526fb8826...</td>\n",
       "      <td>PepeCoin</td>\n",
       "      <td>PEPE</td>\n",
       "      <td>https://nftstorage.link/ipfs/bafybeibtolqdipv4...</td>\n",
       "      <td>ec9d874e152e888231024c72e391fc484e8b6a1cf74443...</td>\n",
       "      <td>9a6c8766b370d724eb0beff7ee0ca72f5bb39b33e6d959...</td>\n",
       "      <td>119100388749264</td>\n",
       "      <td>43751863140</td>\n",
       "      <td>35603200660</td>\n",
       "      <td>419124714118775</td>\n",
       "    </tr>\n",
       "    <tr>\n",
       "      <th>4</th>\n",
       "      <td>c0952d9c3761302a5545f4c04615a855396b1570be5c61...</td>\n",
       "      <td>dexie bucks</td>\n",
       "      <td>DBX</td>\n",
       "      <td>https://nftstorage.link/ipfs/bafybeidiupubzjzn...</td>\n",
       "      <td>db1a9020d48d9d4ad22631b66ab4b9ebd3637ef7758ad3...</td>\n",
       "      <td>b50e78e7b1d39d875d573d85fbc1c1869d3413938c7e67...</td>\n",
       "      <td>107406514426556</td>\n",
       "      <td>38722183</td>\n",
       "      <td>31880499</td>\n",
       "      <td>133188211777670</td>\n",
       "    </tr>\n",
       "  </tbody>\n",
       "</table>\n",
       "</div>"
      ],
      "text/plain": [
       "                                         launcher_id             name  \\\n",
       "0  b7772fbcb3a297555f2dd75368ee85069c50d294902b40...       Stably USD   \n",
       "1  6dc7a439046ae61bf51e3af7e960ab691dbe6d58ddb289...      DeltaXtrade   \n",
       "2  636a5be72b9974d28393fbff1249e28dcdfb86b0bb9245...  Big Brain Token   \n",
       "3  b62577aed2b09182f3db8b21049d687b597f1526fb8826...         PepeCoin   \n",
       "4  c0952d9c3761302a5545f4c04615a855396b1570be5c61...      dexie bucks   \n",
       "\n",
       "  short_name                                          image_url  \\\n",
       "0       USDS  https://nftstorage.link/ipfs/bafybeibsolxdn3yn...   \n",
       "1        DXT  https://nftstorage.link/ipfs/bafybeihklkvffcwg...   \n",
       "2        BBT              https://bigbrain.at/bigbraintoken.png   \n",
       "3       PEPE  https://nftstorage.link/ipfs/bafybeibtolqdipv4...   \n",
       "4        DBX  https://nftstorage.link/ipfs/bafybeidiupubzjzn...   \n",
       "\n",
       "                                            asset_id  \\\n",
       "0  6d95dae356e32a71db5ddcb42224754a02524c615c5fc3...   \n",
       "1  a7c8135b134e1a477563480febefd2e2091afe15d24ab5...   \n",
       "2  9e04d998a90bca05bdbc301548c83104d79256f1b00bb2...   \n",
       "3  ec9d874e152e888231024c72e391fc484e8b6a1cf74443...   \n",
       "4  db1a9020d48d9d4ad22631b66ab4b9ebd3637ef7758ad3...   \n",
       "\n",
       "                                     current_coin_id      xch_reserve  \\\n",
       "0  ff5d451b7a2e82d5b6e8cdda78bd1c2ea895f3a0f67104...  345327423033066   \n",
       "1  bfbd750d5b75b581854c65eae180b4464af087b29f6355...  134760515913201   \n",
       "2  4b423f30b42c2d551e07d016fefea80d83f5db38311f43...  122248510273758   \n",
       "3  9a6c8766b370d724eb0beff7ee0ca72f5bb39b33e6d959...  119100388749264   \n",
       "4  b50e78e7b1d39d875d573d85fbc1c1869d3413938c7e67...  107406514426556   \n",
       "\n",
       "   token_reserve      liquidity     trade_volume  \n",
       "0       11124096       11840762  460220571489558  \n",
       "1         144577         166645    9373639859586  \n",
       "2   129707417184  3909913029823  363079823311399  \n",
       "3    43751863140    35603200660  419124714118775  \n",
       "4       38722183       31880499  133188211777670  "
      ]
     },
     "execution_count": 18,
     "metadata": {},
     "output_type": "execute_result"
    }
   ],
   "source": [
    "pairs.data.head()"
   ]
  },
  {
   "cell_type": "code",
   "execution_count": 19,
   "id": "af2f0d33",
   "metadata": {},
   "outputs": [
    {
     "data": {
      "text/plain": [
       "17.494052783421548"
      ]
     },
     "execution_count": 19,
     "metadata": {},
     "output_type": "execute_result"
    }
   ],
   "source": [
    "pepe = Pair(pairs, 'PEPE')\n",
    "pepe.get_recovery_period()"
   ]
  },
  {
   "cell_type": "code",
   "execution_count": 20,
   "id": "dccecd89",
   "metadata": {},
   "outputs": [
    {
     "data": {
      "text/plain": [
       "0.051336521556278436"
      ]
     },
     "execution_count": 20,
     "metadata": {},
     "output_type": "execute_result"
    }
   ],
   "source": [
    "pepe.get_annualized_yield()"
   ]
  },
  {
   "cell_type": "code",
   "execution_count": null,
   "id": "6398cfbc",
   "metadata": {},
   "outputs": [],
   "source": []
  }
 ],
 "metadata": {
  "kernelspec": {
   "display_name": "Python 3 (ipykernel)",
   "language": "python",
   "name": "python3"
  },
  "language_info": {
   "codemirror_mode": {
    "name": "ipython",
    "version": 3
   },
   "file_extension": ".py",
   "mimetype": "text/x-python",
   "name": "python",
   "nbconvert_exporter": "python",
   "pygments_lexer": "ipython3",
   "version": "3.10.6"
  }
 },
 "nbformat": 4,
 "nbformat_minor": 5
}
