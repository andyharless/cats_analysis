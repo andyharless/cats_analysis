{
 "cells": [
  {
   "cell_type": "code",
   "execution_count": 1,
   "id": "406614a2",
   "metadata": {},
   "outputs": [],
   "source": [
    "import sys\n",
    "sys.path.append('..')"
   ]
  },
  {
   "cell_type": "code",
   "execution_count": 2,
   "id": "53aece13",
   "metadata": {},
   "outputs": [
    {
     "name": "stdout",
     "output_type": "stream",
     "text": [
      "Loading modules\n"
     ]
    }
   ],
   "source": [
    "from modules.tibet_data import Pairs, Pair\n",
    "import pandas as pd"
   ]
  },
  {
   "cell_type": "code",
   "execution_count": 3,
   "id": "1e5f57e0",
   "metadata": {},
   "outputs": [
    {
     "data": {
      "text/plain": [
       "0.09108013285"
      ]
     },
     "execution_count": 3,
     "metadata": {},
     "output_type": "execute_result"
    }
   ],
   "source": [
    "pairs = Pairs()\n",
    "stdg = Pair(pairs, 'STDG')\n",
    "stdg.get_volume()"
   ]
  },
  {
   "cell_type": "code",
   "execution_count": 4,
   "id": "1a7c8b12",
   "metadata": {},
   "outputs": [
    {
     "data": {
      "text/plain": [
       "5.222238337941"
      ]
     },
     "execution_count": 4,
     "metadata": {},
     "output_type": "execute_result"
    }
   ],
   "source": [
    "stdg.get_xch_reserve()"
   ]
  },
  {
   "cell_type": "code",
   "execution_count": 5,
   "id": "1a9250e4",
   "metadata": {},
   "outputs": [
    {
     "data": {
      "text/plain": [
       "0.0031901106383673827"
      ]
     },
     "execution_count": 5,
     "metadata": {},
     "output_type": "execute_result"
    }
   ],
   "source": [
    "stdg.get_annualized_yield()"
   ]
  },
  {
   "cell_type": "code",
   "execution_count": 6,
   "id": "822345ef",
   "metadata": {},
   "outputs": [
    {
     "data": {
      "text/plain": [
       "0.052222383379409994"
      ]
     },
     "execution_count": 6,
     "metadata": {},
     "output_type": "execute_result"
    }
   ],
   "source": [
    "stdg.get_price_impact_threshold()"
   ]
  },
  {
   "cell_type": "code",
   "execution_count": 7,
   "id": "02bab6f1",
   "metadata": {},
   "outputs": [
    {
     "data": {
      "text/plain": [
       "6273.910166223165"
      ]
     },
     "execution_count": 7,
     "metadata": {},
     "output_type": "execute_result"
    }
   ],
   "source": [
    "stdg.get_recovery_period()"
   ]
  },
  {
   "cell_type": "code",
   "execution_count": 8,
   "id": "19a20cfd",
   "metadata": {},
   "outputs": [
    {
     "data": {
      "text/plain": [
       "58.34885521036"
      ]
     },
     "execution_count": 8,
     "metadata": {},
     "output_type": "execute_result"
    }
   ],
   "source": [
    "usds = Pair(pairs, 'USDS')\n",
    "usds.get_volume()"
   ]
  },
  {
   "cell_type": "code",
   "execution_count": 9,
   "id": "7f596453",
   "metadata": {},
   "outputs": [
    {
     "data": {
      "text/plain": [
       "9.793312471486377"
      ]
     },
     "execution_count": 9,
     "metadata": {},
     "output_type": "execute_result"
    }
   ],
   "source": [
    "usds.get_recovery_period()"
   ]
  },
  {
   "cell_type": "code",
   "execution_count": 10,
   "id": "3e7d5aba",
   "metadata": {},
   "outputs": [
    {
     "data": {
      "text/plain": [
       "73.09728206096723"
      ]
     },
     "execution_count": 10,
     "metadata": {},
     "output_type": "execute_result"
    }
   ],
   "source": [
    "incl4 = Pair(pairs, 'INCL4')\n",
    "incl4.get_recovery_period()"
   ]
  },
  {
   "cell_type": "code",
   "execution_count": 11,
   "id": "40d05fd8",
   "metadata": {},
   "outputs": [
    {
     "data": {
      "text/plain": [
       "7.3097282060967235"
      ]
     },
     "execution_count": 11,
     "metadata": {},
     "output_type": "execute_result"
    }
   ],
   "source": [
    "incl4.get_recovery_period(0.1)"
   ]
  },
  {
   "cell_type": "code",
   "execution_count": 12,
   "id": "a4525aee",
   "metadata": {},
   "outputs": [
    {
     "data": {
      "text/plain": [
       "(0.11736935388615244, 12.850662869035)"
      ]
     },
     "execution_count": 12,
     "metadata": {},
     "output_type": "execute_result"
    }
   ],
   "source": [
    "incl4.get_annualized_yield(), incl4.get_xch_reserve()"
   ]
  },
  {
   "cell_type": "code",
   "execution_count": 13,
   "id": "414c6a60",
   "metadata": {},
   "outputs": [
    {
     "data": {
      "text/plain": [
       "7.817370979019"
      ]
     },
     "execution_count": 13,
     "metadata": {},
     "output_type": "execute_result"
    }
   ],
   "source": [
    "incl4.get_volume()"
   ]
  },
  {
   "cell_type": "code",
   "execution_count": 14,
   "id": "866025f8",
   "metadata": {},
   "outputs": [
    {
     "data": {
      "text/html": [
       "<div>\n",
       "<style scoped>\n",
       "    .dataframe tbody tr th:only-of-type {\n",
       "        vertical-align: middle;\n",
       "    }\n",
       "\n",
       "    .dataframe tbody tr th {\n",
       "        vertical-align: top;\n",
       "    }\n",
       "\n",
       "    .dataframe thead th {\n",
       "        text-align: right;\n",
       "    }\n",
       "</style>\n",
       "<table border=\"1\" class=\"dataframe\">\n",
       "  <thead>\n",
       "    <tr style=\"text-align: right;\">\n",
       "      <th></th>\n",
       "      <th>pair_launcher_id</th>\n",
       "      <th>operation</th>\n",
       "      <th>height</th>\n",
       "      <th>coin_id</th>\n",
       "      <th>timestamp</th>\n",
       "      <th>state_change.xch</th>\n",
       "      <th>state_change.token</th>\n",
       "      <th>state_change.liquidity</th>\n",
       "      <th>time</th>\n",
       "    </tr>\n",
       "  </thead>\n",
       "  <tbody>\n",
       "    <tr>\n",
       "      <th>0</th>\n",
       "      <td>9124c0198ed1109fdc3b41d193b67fe06135b82a3f0012...</td>\n",
       "      <td>SWAP</td>\n",
       "      <td>3901178</td>\n",
       "      <td>641fe3156009e2e26844a82dcb9075aaaf6b64d3ce10f4...</td>\n",
       "      <td>1688568116</td>\n",
       "      <td>27538582203</td>\n",
       "      <td>-200000</td>\n",
       "      <td>0</td>\n",
       "      <td>2023-07-05 14:41:56</td>\n",
       "    </tr>\n",
       "    <tr>\n",
       "      <th>1</th>\n",
       "      <td>9124c0198ed1109fdc3b41d193b67fe06135b82a3f0012...</td>\n",
       "      <td>SWAP</td>\n",
       "      <td>3901019</td>\n",
       "      <td>f9ce58563c3d35f67b2985ea0db04b8f802ad0114d76c0...</td>\n",
       "      <td>1688565367</td>\n",
       "      <td>-13541553163</td>\n",
       "      <td>100000</td>\n",
       "      <td>0</td>\n",
       "      <td>2023-07-05 13:56:07</td>\n",
       "    </tr>\n",
       "    <tr>\n",
       "      <th>2</th>\n",
       "      <td>9124c0198ed1109fdc3b41d193b67fe06135b82a3f0012...</td>\n",
       "      <td>SWAP</td>\n",
       "      <td>3896521</td>\n",
       "      <td>acaec74c84f9a9adb06981f63c1652808f65334fa0bb53...</td>\n",
       "      <td>1688480534</td>\n",
       "      <td>49999997484</td>\n",
       "      <td>-366656</td>\n",
       "      <td>0</td>\n",
       "      <td>2023-07-04 14:22:14</td>\n",
       "    </tr>\n",
       "  </tbody>\n",
       "</table>\n",
       "</div>"
      ],
      "text/plain": [
       "                                    pair_launcher_id operation   height  \\\n",
       "0  9124c0198ed1109fdc3b41d193b67fe06135b82a3f0012...      SWAP  3901178   \n",
       "1  9124c0198ed1109fdc3b41d193b67fe06135b82a3f0012...      SWAP  3901019   \n",
       "2  9124c0198ed1109fdc3b41d193b67fe06135b82a3f0012...      SWAP  3896521   \n",
       "\n",
       "                                             coin_id   timestamp  \\\n",
       "0  641fe3156009e2e26844a82dcb9075aaaf6b64d3ce10f4...  1688568116   \n",
       "1  f9ce58563c3d35f67b2985ea0db04b8f802ad0114d76c0...  1688565367   \n",
       "2  acaec74c84f9a9adb06981f63c1652808f65334fa0bb53...  1688480534   \n",
       "\n",
       "   state_change.xch  state_change.token  state_change.liquidity  \\\n",
       "0       27538582203             -200000                       0   \n",
       "1      -13541553163              100000                       0   \n",
       "2       49999997484             -366656                       0   \n",
       "\n",
       "                 time  \n",
       "0 2023-07-05 14:41:56  \n",
       "1 2023-07-05 13:56:07  \n",
       "2 2023-07-04 14:22:14  "
      ]
     },
     "execution_count": 14,
     "metadata": {},
     "output_type": "execute_result"
    }
   ],
   "source": [
    "stdg.get_transactions(op='SWAP')"
   ]
  },
  {
   "cell_type": "code",
   "execution_count": 15,
   "id": "ec09fcb8",
   "metadata": {},
   "outputs": [
    {
     "data": {
      "text/html": [
       "<div>\n",
       "<style scoped>\n",
       "    .dataframe tbody tr th:only-of-type {\n",
       "        vertical-align: middle;\n",
       "    }\n",
       "\n",
       "    .dataframe tbody tr th {\n",
       "        vertical-align: top;\n",
       "    }\n",
       "\n",
       "    .dataframe thead th {\n",
       "        text-align: right;\n",
       "    }\n",
       "</style>\n",
       "<table border=\"1\" class=\"dataframe\">\n",
       "  <thead>\n",
       "    <tr style=\"text-align: right;\">\n",
       "      <th></th>\n",
       "      <th>launcher_id</th>\n",
       "      <th>name</th>\n",
       "      <th>short_name</th>\n",
       "      <th>image_url</th>\n",
       "      <th>asset_id</th>\n",
       "      <th>current_coin_id</th>\n",
       "      <th>xch_reserve</th>\n",
       "      <th>token_reserve</th>\n",
       "      <th>liquidity</th>\n",
       "      <th>trade_volume</th>\n",
       "    </tr>\n",
       "  </thead>\n",
       "  <tbody>\n",
       "    <tr>\n",
       "      <th>0</th>\n",
       "      <td>8e4de8faa26466bbdfe8896a80d1564faf52205932db01...</td>\n",
       "      <td>Taichia DAO</td>\n",
       "      <td>TICA</td>\n",
       "      <td>https://taichia.s3.us-west-2.amazonaws.com/tai...</td>\n",
       "      <td>895d30090a17116d282af37cedec585613d4ee0faec3ea...</td>\n",
       "      <td>227020c3ac692a8fce7e97aae381d9d4942808c9f4be28...</td>\n",
       "      <td>192653493368458</td>\n",
       "      <td>264921269</td>\n",
       "      <td>249239850</td>\n",
       "      <td>54982995000867</td>\n",
       "    </tr>\n",
       "    <tr>\n",
       "      <th>1</th>\n",
       "      <td>b62577aed2b09182f3db8b21049d687b597f1526fb8826...</td>\n",
       "      <td>PepeCoin</td>\n",
       "      <td>PEPE</td>\n",
       "      <td>https://nftstorage.link/ipfs/bafybeibtolqdipv4...</td>\n",
       "      <td>ec9d874e152e888231024c72e391fc484e8b6a1cf74443...</td>\n",
       "      <td>9b9a8ab1211148fe2aaeb9f6287885a649a7e0d8e6b4f1...</td>\n",
       "      <td>139111617729926</td>\n",
       "      <td>48289695954</td>\n",
       "      <td>40337223824</td>\n",
       "      <td>492895579123573</td>\n",
       "    </tr>\n",
       "    <tr>\n",
       "      <th>2</th>\n",
       "      <td>636a5be72b9974d28393fbff1249e28dcdfb86b0bb9245...</td>\n",
       "      <td>Big Brain Token</td>\n",
       "      <td>BBT</td>\n",
       "      <td>https://bigbrain.at/bigbraintoken.png</td>\n",
       "      <td>9e04d998a90bca05bdbc301548c83104d79256f1b00bb2...</td>\n",
       "      <td>c9ebc406cf95399094191c3c0c61a478c38c1f3c0ffdce...</td>\n",
       "      <td>127518487753055</td>\n",
       "      <td>124383563817</td>\n",
       "      <td>3909913029823</td>\n",
       "      <td>368349845822426</td>\n",
       "    </tr>\n",
       "    <tr>\n",
       "      <th>3</th>\n",
       "      <td>c0952d9c3761302a5545f4c04615a855396b1570be5c61...</td>\n",
       "      <td>dexie bucks</td>\n",
       "      <td>DBX</td>\n",
       "      <td>https://nftstorage.link/ipfs/bafybeidiupubzjzn...</td>\n",
       "      <td>db1a9020d48d9d4ad22631b66ab4b9ebd3637ef7758ad3...</td>\n",
       "      <td>65128c1bfd91b489e4569917ad4862473b660a20fd25a7...</td>\n",
       "      <td>113938808137141</td>\n",
       "      <td>42974067</td>\n",
       "      <td>34523114</td>\n",
       "      <td>195779679291646</td>\n",
       "    </tr>\n",
       "    <tr>\n",
       "      <th>4</th>\n",
       "      <td>6dc7a439046ae61bf51e3af7e960ab691dbe6d58ddb289...</td>\n",
       "      <td>DeltaXtrade</td>\n",
       "      <td>DXT</td>\n",
       "      <td>https://nftstorage.link/ipfs/bafybeihklkvffcwg...</td>\n",
       "      <td>a7c8135b134e1a477563480febefd2e2091afe15d24ab5...</td>\n",
       "      <td>9ea5892444535dd4ef8efb92d2f2b7df92b1dd72234874...</td>\n",
       "      <td>103493182219593</td>\n",
       "      <td>109271</td>\n",
       "      <td>126910</td>\n",
       "      <td>23581984422438</td>\n",
       "    </tr>\n",
       "  </tbody>\n",
       "</table>\n",
       "</div>"
      ],
      "text/plain": [
       "                                         launcher_id             name  \\\n",
       "0  8e4de8faa26466bbdfe8896a80d1564faf52205932db01...      Taichia DAO   \n",
       "1  b62577aed2b09182f3db8b21049d687b597f1526fb8826...         PepeCoin   \n",
       "2  636a5be72b9974d28393fbff1249e28dcdfb86b0bb9245...  Big Brain Token   \n",
       "3  c0952d9c3761302a5545f4c04615a855396b1570be5c61...      dexie bucks   \n",
       "4  6dc7a439046ae61bf51e3af7e960ab691dbe6d58ddb289...      DeltaXtrade   \n",
       "\n",
       "  short_name                                          image_url  \\\n",
       "0       TICA  https://taichia.s3.us-west-2.amazonaws.com/tai...   \n",
       "1       PEPE  https://nftstorage.link/ipfs/bafybeibtolqdipv4...   \n",
       "2        BBT              https://bigbrain.at/bigbraintoken.png   \n",
       "3        DBX  https://nftstorage.link/ipfs/bafybeidiupubzjzn...   \n",
       "4        DXT  https://nftstorage.link/ipfs/bafybeihklkvffcwg...   \n",
       "\n",
       "                                            asset_id  \\\n",
       "0  895d30090a17116d282af37cedec585613d4ee0faec3ea...   \n",
       "1  ec9d874e152e888231024c72e391fc484e8b6a1cf74443...   \n",
       "2  9e04d998a90bca05bdbc301548c83104d79256f1b00bb2...   \n",
       "3  db1a9020d48d9d4ad22631b66ab4b9ebd3637ef7758ad3...   \n",
       "4  a7c8135b134e1a477563480febefd2e2091afe15d24ab5...   \n",
       "\n",
       "                                     current_coin_id      xch_reserve  \\\n",
       "0  227020c3ac692a8fce7e97aae381d9d4942808c9f4be28...  192653493368458   \n",
       "1  9b9a8ab1211148fe2aaeb9f6287885a649a7e0d8e6b4f1...  139111617729926   \n",
       "2  c9ebc406cf95399094191c3c0c61a478c38c1f3c0ffdce...  127518487753055   \n",
       "3  65128c1bfd91b489e4569917ad4862473b660a20fd25a7...  113938808137141   \n",
       "4  9ea5892444535dd4ef8efb92d2f2b7df92b1dd72234874...  103493182219593   \n",
       "\n",
       "   token_reserve      liquidity     trade_volume  \n",
       "0      264921269      249239850   54982995000867  \n",
       "1    48289695954    40337223824  492895579123573  \n",
       "2   124383563817  3909913029823  368349845822426  \n",
       "3       42974067       34523114  195779679291646  \n",
       "4         109271         126910   23581984422438  "
      ]
     },
     "execution_count": 15,
     "metadata": {},
     "output_type": "execute_result"
    }
   ],
   "source": [
    "pairs.data.head()"
   ]
  },
  {
   "cell_type": "code",
   "execution_count": 16,
   "id": "af2f0d33",
   "metadata": {},
   "outputs": [
    {
     "data": {
      "text/plain": [
       "30.475841787664226"
      ]
     },
     "execution_count": 16,
     "metadata": {},
     "output_type": "execute_result"
    }
   ],
   "source": [
    "pepe = Pair(pairs, 'PEPE')\n",
    "pepe.get_recovery_period()"
   ]
  },
  {
   "cell_type": "code",
   "execution_count": 17,
   "id": "dccecd89",
   "metadata": {},
   "outputs": [
    {
     "data": {
      "text/plain": [
       "0.0249146888483065"
      ]
     },
     "execution_count": 17,
     "metadata": {},
     "output_type": "execute_result"
    }
   ],
   "source": [
    "pepe.get_annualized_yield()"
   ]
  },
  {
   "cell_type": "code",
   "execution_count": 18,
   "id": "6398cfbc",
   "metadata": {},
   "outputs": [
    {
     "data": {
      "text/plain": [
       "2.880772284473307e-06"
      ]
     },
     "execution_count": 18,
     "metadata": {},
     "output_type": "execute_result"
    }
   ],
   "source": [
    "pepe.get_neutral_price()"
   ]
  },
  {
   "cell_type": "code",
   "execution_count": 19,
   "id": "7375e744-17bc-42f8-974f-649311957fac",
   "metadata": {},
   "outputs": [
    {
     "data": {
      "text/plain": [
       "347129.13804043713"
      ]
     },
     "execution_count": 19,
     "metadata": {},
     "output_type": "execute_result"
    }
   ],
   "source": [
    "pepe.get_inverse_price()"
   ]
  },
  {
   "cell_type": "code",
   "execution_count": 20,
   "id": "46f89fb9-6f1e-4827-b117-32cd7850ff33",
   "metadata": {},
   "outputs": [
    {
     "data": {
      "text/plain": [
       "6.897431431419275e-06"
      ]
     },
     "execution_count": 20,
     "metadata": {},
     "output_type": "execute_result"
    }
   ],
   "source": [
    "pepe.get_total_xch_value_of_liquidity_units()"
   ]
  },
  {
   "cell_type": "code",
   "execution_count": 21,
   "id": "0bc20f1b-8c85-4017-b053-27a433527154",
   "metadata": {},
   "outputs": [
    {
     "data": {
      "text/plain": [
       "8.426529902882045"
      ]
     },
     "execution_count": 21,
     "metadata": {},
     "output_type": "execute_result"
    }
   ],
   "source": [
    "pepe.get_total_xch_value_of_liquidity_units(1221691)"
   ]
  },
  {
   "cell_type": "code",
   "execution_count": 22,
   "id": "082fab07-0185-4f11-a724-374bb749e7e2",
   "metadata": {},
   "outputs": [
    {
     "data": {
      "text/plain": [
       "0.025188832970218424"
      ]
     },
     "execution_count": 22,
     "metadata": {},
     "output_type": "execute_result"
    }
   ],
   "source": [
    "ngdplt = Pair(pairs, 'NGDPLT')\n",
    "ngdplt.get_neutral_price()"
   ]
  },
  {
   "cell_type": "code",
   "execution_count": 23,
   "id": "32c3dea9-00a1-4522-96c1-f31c7a2d89a1",
   "metadata": {},
   "outputs": [
    {
     "data": {
      "text/plain": [
       "0.03342976823268644"
      ]
     },
     "execution_count": 23,
     "metadata": {},
     "output_type": "execute_result"
    }
   ],
   "source": [
    "ingdp = Pair(pairs, 'INGDP')\n",
    "ingdp.get_neutral_price()"
   ]
  },
  {
   "cell_type": "code",
   "execution_count": 25,
   "id": "e9fe5bd6-9776-4418-af9d-f7530cef7697",
   "metadata": {},
   "outputs": [],
   "source": [
    "chia_price = 33.24\n",
    "prices = [chia_price*x.get_neutral_price() for x in (ngdplt, ingdp)]"
   ]
  },
  {
   "cell_type": "code",
   "execution_count": 26,
   "id": "c1ac7045-a315-46b3-8626-b7bcfdbc741f",
   "metadata": {},
   "outputs": [
    {
     "data": {
      "text/plain": [
       "0.9742411519922789"
      ]
     },
     "execution_count": 26,
     "metadata": {},
     "output_type": "execute_result"
    }
   ],
   "source": [
    "(prices[0] + prices[1])/2"
   ]
  },
  {
   "cell_type": "code",
   "execution_count": 27,
   "id": "708063a9-ded7-484b-bec8-b477f0e14bb6",
   "metadata": {},
   "outputs": [
    {
     "data": {
      "text/plain": [
       "2.58"
      ]
     },
     "execution_count": 27,
     "metadata": {},
     "output_type": "execute_result"
    }
   ],
   "source": [
    "should_be_1 = (prices[0] + prices[1])/2\n",
    "pctoff = abs(should_be_1 - 1) * 100\n",
    "round(pctoff, 2)"
   ]
  },
  {
   "cell_type": "code",
   "execution_count": null,
   "id": "3483b958-e5ed-47c3-a901-e5ae21119dc2",
   "metadata": {},
   "outputs": [],
   "source": []
  }
 ],
 "metadata": {
  "kernelspec": {
   "display_name": "Python 3 (ipykernel)",
   "language": "python",
   "name": "python3"
  },
  "language_info": {
   "codemirror_mode": {
    "name": "ipython",
    "version": 3
   },
   "file_extension": ".py",
   "mimetype": "text/x-python",
   "name": "python",
   "nbconvert_exporter": "python",
   "pygments_lexer": "ipython3",
   "version": "3.10.6"
  }
 },
 "nbformat": 4,
 "nbformat_minor": 5
}
