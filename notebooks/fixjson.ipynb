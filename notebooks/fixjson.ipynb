{
 "cells": [
  {
   "cell_type": "markdown",
   "id": "a6eb90d9",
   "metadata": {},
   "source": [
    "Example of how to use `fixjson.sh`"
   ]
  },
  {
   "cell_type": "code",
   "execution_count": 1,
   "id": "fd179d1b",
   "metadata": {},
   "outputs": [],
   "source": [
    "import json"
   ]
  },
  {
   "cell_type": "code",
   "execution_count": 2,
   "id": "7118c423",
   "metadata": {},
   "outputs": [],
   "source": [
    "!cd ../.."
   ]
  },
  {
   "cell_type": "code",
   "execution_count": 3,
   "id": "ed08ff0e",
   "metadata": {},
   "outputs": [],
   "source": [
    "!chia wallet get_transactions -f 3005482098 -i 1 -v -l 3 --no-paginate > temp.json"
   ]
  },
  {
   "cell_type": "markdown",
   "id": "5e46071c",
   "metadata": {},
   "source": [
    "Chia CLI outputs pseudo-JSON (with above `-v` flag for 'verbose'), but it won't parse correctly because:\n",
    "- It uses single-quotes instead of double-quotes\n",
    "- It represents boolean values starting with capital letters\n",
    "- It represents null values as `None` rather than `null`\n",
    "- It prints out JSON objects one after another without a delimeter\n",
    "</ul>\n",
    "Therefore <code>json.load</code> will fail:"
   ]
  },
  {
   "cell_type": "code",
   "execution_count": 4,
   "id": "b06be0c0",
   "metadata": {},
   "outputs": [
    {
     "name": "stdout",
     "output_type": "stream",
     "text": [
      "Expecting property name enclosed in double quotes: line 1 column 2 (char 1)\n"
     ]
    }
   ],
   "source": [
    "try:\n",
    "    with open('temp.json') as f:\n",
    "        json.load(f)\n",
    "except json.decoder.JSONDecodeError as e:\n",
    "    print(e)"
   ]
  },
  {
   "cell_type": "markdown",
   "id": "74005bb0",
   "metadata": {},
   "source": [
    "The script runs `sed` to change the first three problems and a `python` script to put the objects into a nice comma-delimited list.  (In its current form `fixjson` is not very sophisticated and will likely fail on things like embedded quotations, but it seems to work for Chia CLI output...pending further testing.)"
   ]
  },
  {
   "cell_type": "code",
   "execution_count": 5,
   "id": "6d8de1af",
   "metadata": {},
   "outputs": [],
   "source": [
    "!../scripts/fixjson.sh temp"
   ]
  },
  {
   "cell_type": "markdown",
   "id": "42489ef8",
   "metadata": {},
   "source": [
    "With the fixed json file, the decoder runs correctly:"
   ]
  },
  {
   "cell_type": "code",
   "execution_count": 6,
   "id": "d5d08eb9",
   "metadata": {},
   "outputs": [],
   "source": [
    "with open('temp.json') as f:\n",
    "    json.load(f)"
   ]
  },
  {
   "cell_type": "code",
   "execution_count": 7,
   "id": "64b08742",
   "metadata": {},
   "outputs": [],
   "source": [
    "# Clean up\n",
    "!rm temp.json\n",
    "!rm temp.json.bak"
   ]
  }
 ],
 "metadata": {
  "kernelspec": {
   "display_name": "Python 3 (ipykernel)",
   "language": "python",
   "name": "python3"
  },
  "language_info": {
   "codemirror_mode": {
    "name": "ipython",
    "version": 3
   },
   "file_extension": ".py",
   "mimetype": "text/x-python",
   "name": "python",
   "nbconvert_exporter": "python",
   "pygments_lexer": "ipython3",
   "version": "3.10.6"
  }
 },
 "nbformat": 4,
 "nbformat_minor": 5
}
